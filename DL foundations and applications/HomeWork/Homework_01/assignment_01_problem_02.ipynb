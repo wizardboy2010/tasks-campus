{
 "cells": [
  {
   "cell_type": "markdown",
   "metadata": {
    "colab_type": "text",
    "id": "aM3EU2xZm7EL"
   },
   "source": [
    "<h4 align=\"right\">by <a href=\"http://cse.iitkgp.ac.in/~adas/\">Abir Das</a> with help of <br> Ram Rakesh and Ankit Singh<br> </h4>"
   ]
  },
  {
   "cell_type": "markdown",
   "metadata": {
    "colab_type": "text",
    "id": "YbHcPWVIm7EO"
   },
   "source": [
    "### Write the following details here\n",
    "** Name: ** `Talluri Surya Teja`<br/>\n",
    "** Roll Number: ** `15EE35028`<br/>\n",
    "** Department: ** `Electrical Engineering`<br/>\n",
    "** Email: ** `tsuryateja.iitkgp@gmail.com`"
   ]
  },
  {
   "cell_type": "markdown",
   "metadata": {
    "colab_type": "text",
    "id": "6Q1Xtnc8m7ES"
   },
   "source": [
    "# Problem Set 2"
   ]
  },
  {
   "cell_type": "markdown",
   "metadata": {
    "colab_type": "text",
    "id": "ku7HUEtLm7EU"
   },
   "source": [
    "## Preamble\n",
    "\n",
    "To run and solve this assignment, one must have a working IPython Notebook installation. The easiest way to set it up for both Windows and Linux is to install [Anaconda](https://www.continuum.io/downloads). Then save this file ([`assignment_01.ipynb`]()) to your computer, run Anaconda and choose this file in Anaconda's file explorer. Use `Python 3` version. Below statements assume that you have already followed these instructions. If you are new to Python or its scientific library, Numpy, there are some nice tutorials [here](https://www.learnpython.org/) and [here](http://www.scipy-lectures.org/)."
   ]
  },
  {
   "cell_type": "markdown",
   "metadata": {
    "colab_type": "text",
    "id": "1EV5mRpGm7EX"
   },
   "source": [
    "### Problem: You will implement a fully connected neural network from scratch in this problem\n",
    "We marked places where you are expected to add/change your own code with **`##### write your code below #####`** comment."
   ]
  },
  {
   "cell_type": "code",
   "execution_count": 3,
   "metadata": {
    "colab": {
     "base_uri": "https://localhost:8080/",
     "height": 34
    },
    "colab_type": "code",
    "id": "597wDiAvGvuB",
    "outputId": "e8c73aa2-121c-4a1b-eb51-9c48b2009e9e"
   },
   "outputs": [
    {
     "data": {
      "text/plain": [
       "'You are not supposed to import any other python library to work on this assignments.'"
      ]
     },
     "execution_count": 3,
     "metadata": {
      "tags": []
     },
     "output_type": "execute_result"
    }
   ],
   "source": [
    "import numpy as np\n",
    "import matplotlib.pyplot as plt\n",
    "%matplotlib inline\n",
    "'''You are not supposed to import any other python library to work on this assignments.'''"
   ]
  },
  {
   "cell_type": "code",
   "execution_count": 9,
   "metadata": {
    "colab": {
     "base_uri": "https://localhost:8080/",
     "height": 34
    },
    "colab_type": "code",
    "id": "B54oZmm1DNWe",
    "outputId": "dbaa766d-9595-495e-b843-5fe51edbcd22"
   },
   "outputs": [
    {
     "name": "stdout",
     "output_type": "stream",
     "text": [
      "Number of training examples: 60000\n"
     ]
    }
   ],
   "source": [
    "'''data is loaded from data directory.\n",
    "please don't remove the folder '''\n",
    "\n",
    "x_train = np.load('./data/X_train.npy')\n",
    "x_train = x_train.flatten().reshape(-1,28*28)\n",
    "x_train = x_train / 255.0\n",
    "gt_indices = np.load('./data/y_train.npy')\n",
    "train_length = len(x_train)\n",
    "print(\"Number of training examples: {:d}\".format(train_length))"
   ]
  },
  {
   "cell_type": "code",
   "execution_count": 0,
   "metadata": {
    "colab": {},
    "colab_type": "code",
    "id": "LvVFhXNB5xrD"
   },
   "outputs": [],
   "source": [
    "'''Dimensions to be used for creating your model'''\n",
    "\n",
    "batch_size = 64  # batch size\n",
    "input_dim = 784  # input dimension\n",
    "hidden_1_dim = 512  # hidden layer 1 dimension\n",
    "hidden_2_dim = 256  # hidden layer 2 dimension\n",
    "output_dim = 10   # output dimension\n",
    "\n",
    "'''Other hyperparameters'''\n",
    "learning_rate = 1e-2"
   ]
  },
  {
   "cell_type": "code",
   "execution_count": 0,
   "metadata": {
    "colab": {},
    "colab_type": "code",
    "id": "hImaaujc5zXg"
   },
   "outputs": [],
   "source": [
    "#creating one hot vector representation of output classification\n",
    "y_train = np.zeros((train_length, output_dim))\n",
    "# print(y.shape, gt_indices.shape)\n",
    "for i in range(train_length):\n",
    "    y_train[i,gt_indices[i]] = 1\n",
    "\n",
    "# Number of mini-batches (as integer) in one epoch\n",
    "num_minibatches = np.floor(train_length/batch_size).astype(int) "
   ]
  },
  {
   "cell_type": "code",
   "execution_count": 12,
   "metadata": {
    "colab": {
     "base_uri": "https://localhost:8080/",
     "height": 34
    },
    "colab_type": "code",
    "id": "W7lHWEWVaVlK",
    "outputId": "801aed13-5dd8-4a14-a0d8-443a594a59c9"
   },
   "outputs": [
    {
     "name": "stdout",
     "output_type": "stream",
     "text": [
      "No of mini-batches 937 and total training data used in training:59968.\n"
     ]
    }
   ],
   "source": [
    "print(\"No of mini-batches {:d} and total training data used in training:\\\n",
    "{}.\".format(num_minibatches, num_minibatches*batch_size))"
   ]
  },
  {
   "cell_type": "code",
   "execution_count": 0,
   "metadata": {
    "colab": {},
    "colab_type": "code",
    "id": "C9HRf0Wj52cK"
   },
   "outputs": [],
   "source": [
    "'''Randomly Initialize Weights  from standard normal distribution (i.e., mean = 0 and s.d. = 1.0).\n",
    "Use the dimesnions specified in the cell 3 to initialize your weights matrices. \n",
    "Use the nomenclature W1,W2 etc. (provided below) for the different weight matrices.'''\n",
    "\n",
    "########################## write your code below ##############################################\n",
    "W1 = np.random.normal(0,0.1,[input_dim, hidden_1_dim])\n",
    "W2 = np.random.normal(0,0.1,[hidden_1_dim, hidden_2_dim])\n",
    "W3 = np.random.normal(0,0.1,[hidden_2_dim, output_dim])\n",
    "###############################################################################################"
   ]
  },
  {
   "cell_type": "code",
   "execution_count": 0,
   "metadata": {
    "colab": {},
    "colab_type": "code",
    "id": "PmZRrEVb6CJy"
   },
   "outputs": [],
   "source": [
    "# Write a function which computes the softmax where X is vector of scores computed during forward pass\n",
    "def softmax(x):\n",
    "    ##############################write your code here #################################\n",
    "    z = np.exp(x)\n",
    "    y_pred = z / np.array([np.sum(z, axis=1)]).T\n",
    "    \n",
    "    ####################################################################################\n",
    "    return y_pred"
   ]
  },
  {
   "cell_type": "code",
   "execution_count": 18,
   "metadata": {
    "colab": {
     "base_uri": "https://localhost:8080/",
     "height": 1220
    },
    "colab_type": "code",
    "id": "Gjz4yhwE6JQw",
    "outputId": "1b84430f-e134-41a3-f9fd-1460c9cb60ce"
   },
   "outputs": [
    {
     "name": "stdout",
     "output_type": "stream",
     "text": [
      " Epoch: 0, iteration: 0, Loss: 3.1354 \n",
      " Epoch: 1, iteration: 937, Loss: 0.3345 \n",
      " Epoch: 2, iteration: 1874, Loss: 0.2556 \n",
      " Epoch: 3, iteration: 2811, Loss: 0.2130 \n",
      " Epoch: 4, iteration: 3748, Loss: 0.1857 \n",
      " Epoch: 5, iteration: 4685, Loss: 0.1664 \n",
      " Epoch: 6, iteration: 5622, Loss: 0.1531 \n",
      " Epoch: 7, iteration: 6559, Loss: 0.1425 \n",
      " Epoch: 8, iteration: 7496, Loss: 0.1336 \n",
      " Epoch: 9, iteration: 8433, Loss: 0.1270 \n",
      " Epoch: 10, iteration: 9370, Loss: 0.1205 \n",
      " Epoch: 11, iteration: 10307, Loss: 0.1145 \n",
      " Epoch: 12, iteration: 11244, Loss: 0.1092 \n",
      " Epoch: 13, iteration: 12181, Loss: 0.1040 \n",
      " Epoch: 14, iteration: 13118, Loss: 0.0987 \n",
      " Epoch: 15, iteration: 14055, Loss: 0.0937 \n",
      " Epoch: 16, iteration: 14992, Loss: 0.0890 \n",
      " Epoch: 17, iteration: 15929, Loss: 0.0848 \n",
      " Epoch: 18, iteration: 16866, Loss: 0.0810 \n",
      " Epoch: 19, iteration: 17803, Loss: 0.0775 \n",
      " Epoch: 20, iteration: 18740, Loss: 0.0736 \n",
      " Epoch: 21, iteration: 19677, Loss: 0.0700 \n",
      " Epoch: 22, iteration: 20614, Loss: 0.0666 \n",
      " Epoch: 23, iteration: 21551, Loss: 0.0635 \n",
      " Epoch: 24, iteration: 22488, Loss: 0.0607 \n",
      " Epoch: 25, iteration: 23425, Loss: 0.0582 \n",
      " Epoch: 26, iteration: 24362, Loss: 0.0555 \n",
      " Epoch: 27, iteration: 25299, Loss: 0.0533 \n",
      " Epoch: 28, iteration: 26236, Loss: 0.0515 \n",
      " Epoch: 29, iteration: 27173, Loss: 0.0498 \n",
      " Epoch: 30, iteration: 28110, Loss: 0.0481 \n",
      " Epoch: 31, iteration: 29047, Loss: 0.0464 \n",
      " Epoch: 32, iteration: 29984, Loss: 0.0449 \n",
      " Epoch: 33, iteration: 30921, Loss: 0.0434 \n",
      " Epoch: 34, iteration: 31858, Loss: 0.0421 \n",
      " Epoch: 35, iteration: 32795, Loss: 0.0458 \n",
      " Epoch: 36, iteration: 33732, Loss: 0.0462 \n",
      " Epoch: 37, iteration: 34669, Loss: 0.0463 \n",
      " Epoch: 38, iteration: 35606, Loss: 0.0464 \n",
      " Epoch: 39, iteration: 36543, Loss: 0.0463 \n",
      " Epoch: 40, iteration: 37480, Loss: 0.0463 \n",
      " Epoch: 41, iteration: 38417, Loss: 0.0462 \n",
      " Epoch: 42, iteration: 39354, Loss: 0.0461 \n",
      " Epoch: 43, iteration: 40291, Loss: 0.0460 \n",
      " Epoch: 44, iteration: 41228, Loss: 0.0459 \n",
      " Epoch: 45, iteration: 42165, Loss: 0.0458 \n",
      " Epoch: 46, iteration: 43102, Loss: 0.0457 \n",
      " Epoch: 47, iteration: 44039, Loss: 0.0456 \n",
      " Epoch: 48, iteration: 44976, Loss: 0.0456 \n"
     ]
    },
    {
     "data": {
      "image/png": "[encoded data removed]",
      "text/plain": [
       "<Figure size 720x360 with 1 Axes>"
      ]
     },
     "metadata": {
      "tags": []
     },
     "output_type": "display_data"
    }
   ],
   "source": [
    "no_of_iterations = 45000\n",
    "loss_list=[]\n",
    "i_epoch = 0\n",
    "for i_iter in range(no_of_iterations):\n",
    "    \n",
    "    ''''''\n",
    "    batch_elem_idx = i_iter%num_minibatches\n",
    "    x_batchinput = x_train[batch_elem_idx*batch_size:(batch_elem_idx+1)*batch_size]\n",
    "    y_batchinput = y_train[batch_elem_idx*batch_size:(batch_elem_idx+1)*batch_size]\n",
    "    \n",
    "    ########################## write your code below ##############################################\n",
    "    ######################### Forward Pass Block #####################################\n",
    "    '''Write the code for forward block of the neural network with 2 hidden layers.\n",
    "    Please stick to the notation below which follows the notation provided in the lecture slides.\n",
    "    Note that you are allowed to write the right hand sides of these variables in more than\n",
    "    one line if that is convenient for you.'''\n",
    "    \n",
    "    # first hidden layer implementation\n",
    "    a1 = x_batchinput.dot(W1)\n",
    "    # implement Relu layer\n",
    "    h1 = np.maximum(a1,0)\n",
    "    #  implement 2 hidden layer\n",
    "    a2 = h1.dot(W2)\n",
    "    # implement Relu activation \n",
    "    h2 = np.maximum(a2,0)\n",
    "    #implement linear output layer\n",
    "    a3 = h2.dot(W3)\n",
    "    # softmax layer\n",
    "    softmax_score = softmax(a3) #enusre you have implemented the softmax function defined above\n",
    "    ##################################################################################\n",
    "    ###############################################################################################\n",
    "\n",
    "    neg_log_softmax_score = -np.log(softmax_score+0.00000001) # The small number is added to avoid 0 input to log function\n",
    "    \n",
    "    # Compute and print loss\n",
    "    if i_iter%num_minibatches == 0:\n",
    "        loss = np.mean(np.diag(np.take(neg_log_softmax_score, gt_indices[batch_elem_idx*batch_size:(batch_elem_idx+1)*batch_size],\\\n",
    "                                       axis=1)))\n",
    "        print(\" Epoch: {:d}, iteration: {:d}, Loss: {:6.4f} \".format(i_epoch, i_iter, loss))\n",
    "        loss_list.append(loss)\n",
    "        i_epoch += 1\n",
    "        # Each 10th epoch reduce learning rate by a factor of 10\n",
    "        if i_epoch%35 == 0:\n",
    "            learning_rate /= 10\n",
    "     \n",
    "    ################################### Backpropagation Code Block #####################################\n",
    "    ''' Use the convention grad_{} for computing the gradients.\n",
    "    for e.g \n",
    "        grad_W1 for gradients w.r.t. weight W1\n",
    "        grad_w2 for gradients w.r.t. weights W2'''\n",
    "    ########################## write your code below ##############################################\n",
    "    # Gradient of cross-entropy loss w.r.t. preactivation of the output layer\n",
    "    grad_softmax_score = -y_batchinput+softmax_score\n",
    "    \n",
    "    # gradient w.r.t W3\n",
    "    grad_W3 = h2.T.dot(grad_softmax_score)/len(y_batchinput)\n",
    "    # gradient w.r.t h2\n",
    "    grad_h2 = grad_softmax_score.dot(W3.T)\n",
    "    # gradient w.r.t a2\n",
    "    grad_a2 = np.where(a2>0, grad_h2, 0)\n",
    "    # gradient w.r.t W2\n",
    "    grad_W2 = h1.T.dot(grad_h2)/len(y_batchinput)\n",
    "    # gradient w.r.t h1\n",
    "    grad_h1 = grad_a2.dot(W2.T)\n",
    "    # gradient w.r.t a1\n",
    "    grad_a1 = np.where(a1>0, grad_h1, 0)\n",
    "    # gradient w.r.t W1\n",
    "    grad_W1 = x_batchinput.T.dot(grad_h1)/len(y_batchinput)\n",
    "    ###############################################################################################\n",
    "    ####################################################################################################\n",
    "    \n",
    "    \n",
    "    ################################ Update Weights Block using SGD ####################################\n",
    "    W3 -= learning_rate * grad_W3\n",
    "    W2 -= learning_rate * grad_W2\n",
    "    W1 -= learning_rate * grad_W1\n",
    "    ####################################################################################################\n",
    "    \n",
    "#plotting the loss\n",
    "plt.figure(figsize=(10,5))\n",
    "plt.plot(loss_list)\n",
    "plt.title('Loss vs epochs')\n",
    "plt.xlabel('epochs')\n",
    "plt.ylabel('Loss')\n",
    "plt.show()"
   ]
  },
  {
   "cell_type": "code",
   "execution_count": 0,
   "metadata": {
    "colab": {},
    "colab_type": "code",
    "id": "EQjp-QM2m7F3"
   },
   "outputs": [],
   "source": [
    "'''Loading the test data from data/X_test.npy and data/y_test.npy.'''\n",
    "x_test = np.load('X_test.npy')\n",
    "x_test = x_test.flatten().reshape(-1,28*28)\n",
    "x_test = x_test / 255.0\n",
    "y_test = np.load('y_test.npy')"
   ]
  },
  {
   "cell_type": "code",
   "execution_count": 22,
   "metadata": {
    "colab": {
     "base_uri": "https://localhost:8080/",
     "height": 34
    },
    "colab_type": "code",
    "id": "LMoyvAvym7F8",
    "outputId": "03f69ca6-6034-4a8b-b959-8bc4e371624d"
   },
   "outputs": [
    {
     "name": "stdout",
     "output_type": "stream",
     "text": [
      "Test accuracy is 97.10 %\n"
     ]
    }
   ],
   "source": [
    "batch_size_test = 100 # Deliberately taken 100 so that it divides the test data size\n",
    "num_minibatches = len(y_test)/batch_size_test\n",
    "test_correct = 0\n",
    "\n",
    "'''Only forward block code and compute softmax_score .'''\n",
    "for i_iter in range(int(num_minibatches)):\n",
    "    \n",
    "    '''Get one minibatch'''\n",
    "    batch_elem_idx = i_iter%num_minibatches\n",
    "    x_batchinput = x_test[i_iter*batch_size_test:(i_iter+1)*batch_size_test]\n",
    "    \n",
    "    ######### copy only the forward pass block of your code and pass the x_batchinput to it and compute softmax_score ##########\n",
    "    # first hidden layer implementation\n",
    "    a1 = x_batchinput.dot(W1)\n",
    "    # implement Relu layer\n",
    "    h1 = np.maximum(a1,0)\n",
    "    #  implement 2 hidden layer\n",
    "    a2 = h1.dot(W2)\n",
    "    # implement Relu activation \n",
    "    h2 = np.maximum(a2,0)\n",
    "    #implement linear output layer\n",
    "    a3 = h2.dot(W3)\n",
    "    # softmax layer\n",
    "    softmax_score = softmax(a3) #enusre you have implemented the softmax function defined above\n",
    "    ##################################################################################\n",
    "    \n",
    "    y_batchinput = y_test[i_iter*batch_size_test:(i_iter+1)*batch_size_test]\n",
    "    \n",
    "    y_pred = np.argmax(softmax_score, axis=1)\n",
    "    num_correct_i_iter = np.sum(y_pred == y_batchinput)\n",
    "    test_correct += num_correct_i_iter\n",
    "print (\"Test accuracy is {:4.2f} %\".format(test_correct/len(y_test)*100))"
   ]
  }
 ],
 "metadata": {
  "accelerator": "GPU",
  "colab": {
   "collapsed_sections": [],
   "name": "assignment_01_problem_02.ipynb",
   "provenance": [],
   "toc_visible": true,
   "version": "0.3.2"
  },
  "kernelspec": {
   "display_name": "Python 3",
   "language": "python",
   "name": "python3"
  },
  "language_info": {
   "codemirror_mode": {
    "name": "ipython",
    "version": 3
   },
   "file_extension": ".py",
   "mimetype": "text/x-python",
   "name": "python",
   "nbconvert_exporter": "python",
   "pygments_lexer": "ipython3",
   "version": "3.7.1"
  }
 },
 "nbformat": 4,
 "nbformat_minor": 1
}
