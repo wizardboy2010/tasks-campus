{
 "cells": [
  {
   "cell_type": "markdown",
   "metadata": {},
   "source": [
    "<h4 align=\"right\">by <a href=\"http://cse.iitkgp.ac.in/~adas/\">Abir Das</a> with help of <br> Ram Rakesh and Ankit Singh<br> </h4>"
   ]
  },
  {
   "cell_type": "markdown",
   "metadata": {},
   "source": [
    "### Write the following details here\n",
    "** Name: ** `Talluri Surya Teja`<br/>\n",
    "** Roll Number: ** `15EE35028`<br/>\n",
    "** Department: ** `Electrical Engineering`<br/>\n",
    "** Email: ** `tsuryateja.iitkgp@gmail.com`"
   ]
  },
  {
   "cell_type": "markdown",
   "metadata": {},
   "source": [
    "# Problem Set 1 "
   ]
  },
  {
   "cell_type": "markdown",
   "metadata": {},
   "source": [
    "## Preamble\n",
    "\n",
    "To run and solve this assignment, one must have a working IPython Notebook installation. The easiest way to set it up for both Windows and Linux is to install [Anaconda](https://www.continuum.io/downloads). Then save this file ([`assignment_01.ipynb`]()) to your computer, run Anaconda and choose this file in Anaconda's file explorer. Use `Python 3` version. Below statements assume that you have already followed these instructions. If you are new to Python or its scientific library, Numpy, there are some nice tutorials [here](https://www.learnpython.org/) and [here](http://www.scipy-lectures.org/)."
   ]
  },
  {
   "cell_type": "markdown",
   "metadata": {},
   "source": [
    "### Problem: You will implement the perceptron algorithm in this problem\n",
    "We marked places where you are expected to add/change your own code with **`##### write your code below #####`** comment."
   ]
  },
  {
   "cell_type": "code",
   "execution_count": 1,
   "metadata": {},
   "outputs": [],
   "source": [
    "# Import the libraries\n",
    "%matplotlib inline\n",
    "import matplotlib.pyplot as plt\n",
    "import numpy as np"
   ]
  },
  {
   "cell_type": "code",
   "execution_count": 2,
   "metadata": {},
   "outputs": [],
   "source": [
    "# Read training data from data_prob_01.txt and store in a numpy array called 'x'.\n",
    "# As 40 data points are present, 'x' will be a 40x2 array where each row is one data point.\n",
    "# Store the labels in 'y'. It will be 40 length numpy array.\n",
    "# Each data is two dimensional and labels are +1 for the positive class while -1\n",
    "# for the negative class\n",
    "fileName=\"./data/data_prob_01.txt\"\n",
    "with open(fileName) as file:\n",
    "    lines =  [line.split() for line in file ]\n",
    "data = np.array(lines,dtype='float32')\n",
    "X = data[:,:2]\n",
    "y = data[:,-1]"
   ]
  },
  {
   "cell_type": "code",
   "execution_count": 3,
   "metadata": {},
   "outputs": [
    {
     "name": "stdout",
     "output_type": "stream",
     "text": [
      "For Epoch 1 Loss is:  0.5\n",
      "For Epoch 6 Loss is:  0.4818689844893288\n",
      "For Epoch 11 Loss is:  0.46333566491827877\n",
      "For Epoch 16 Loss is:  0.4443888516252361\n",
      "For Epoch 21 Loss is:  0.4250174254654864\n",
      "For Epoch 26 Loss is:  0.4052104181181935\n",
      "For Epoch 31 Loss is:  0.38495710253176846\n",
      "For Epoch 36 Loss is:  0.36424709327761046\n",
      "For Epoch 41 Loss is:  0.34307045618433296\n",
      "For Epoch 46 Loss is:  0.32141782616368336\n",
      "For Epoch 51 Loss is:  0.29928053162938895\n",
      "For Epoch 56 Loss is:  0.2766507233730792\n",
      "For Epoch 61 Loss is:  0.2535215052272314\n",
      "For Epoch 66 Loss is:  0.22988706335083275\n",
      "For Epoch 71 Loss is:  0.20574279056114309\n",
      "For Epoch 76 Loss is:  0.18108540184812766\n",
      "For Epoch 81 Loss is:  0.1559130370875751\n",
      "For Epoch 86 Loss is:  0.13022534704754557\n",
      "For Epoch 91 Loss is:  0.10402355908083502\n",
      "For Epoch 96 Loss is:  0.07731051941695452\n",
      "For Epoch 101 Loss is:  0.05009070969473319\n",
      "For Epoch 106 Loss is:  0.02237023627546575\n",
      "Final Loss: 0.005500769609497502\n"
     ]
    }
   ],
   "source": [
    "# Initialize weight\n",
    "w = np.array([0.0, 0.0]) #\n",
    "# while no examples are misclassified run the perceptron algorithm (refer to the slides for the algorithm)\n",
    "########################## write your code below ##############################################\n",
    "\n",
    "n_epochs = 109\n",
    "y[y == -1] = 0\n",
    "\n",
    "lr = 0.001\n",
    "\n",
    "for epoch in range(n_epochs):\n",
    "    z = X.dot(w.reshape(-1,1))\n",
    "    y_hat = 1/(1+np.exp(-z))\n",
    "    \n",
    "    loss = np.mean(np.array([y[i]*np.log(y_hat)[i,0]+(1-y[i])*(1-np.log(y_hat)[i,0]) for i in range(len(y))]))\n",
    "    \n",
    "    dz = y.reshape(-1, 1) - y_hat\n",
    "    dw = X.T.dot(dz)/len(X)\n",
    "    \n",
    "    w -= lr*dw.reshape(2,)\n",
    "        \n",
    "    if epoch%5 ==0:\n",
    "        print('For Epoch', epoch+1, 'Loss is: ', loss)\n",
    "print('Final Loss:', loss)\n",
    "\n",
    "# Finally w contains the trained weights\n",
    "###############################################################################################"
   ]
  },
  {
   "cell_type": "markdown",
   "metadata": {},
   "source": [
    "### Scatter plot the data points and plot the straight line given by the trained weights w"
   ]
  },
  {
   "cell_type": "code",
   "execution_count": 4,
   "metadata": {},
   "outputs": [
    {
     "data": {
      "image/png": "[encoded data removed]",
      "text/plain": [
       "<Figure size 720x720 with 1 Axes>"
      ]
     },
     "metadata": {
      "needs_background": "light"
     },
     "output_type": "display_data"
    }
   ],
   "source": [
    "epsilon=1e-18\n",
    "indexes_with_class1 = y==1\n",
    "plt.figure(figsize=(10,10))\n",
    "plt.scatter(X[indexes_with_class1][:,0],X[indexes_with_class1][:,1], color='r', marker='P')\n",
    "plt.scatter(X[~indexes_with_class1][:,0],X[~indexes_with_class1][:,1], color='g', marker='o')\n",
    "plt.grid()\n",
    "\n",
    "# weightplot\n",
    "plt.xlim(-12,12)\n",
    "plt.ylim(-12,12)\n",
    "slope = (-w[0])/(w[1]+epsilon) # to ensure no division by zero\n",
    "xx = np.linspace(-15, 15)\n",
    "yy = slope * xx\n",
    "plt.plot(xx,yy,color='k', linestyle='-', linewidth=2)\n",
    "plt.show()"
   ]
  }
 ],
 "metadata": {
  "kernelspec": {
   "display_name": "Python 3",
   "language": "python",
   "name": "python3"
  },
  "language_info": {
   "codemirror_mode": {
    "name": "ipython",
    "version": 3
   },
   "file_extension": ".py",
   "mimetype": "text/x-python",
   "name": "python",
   "nbconvert_exporter": "python",
   "pygments_lexer": "ipython3",
   "version": "3.7.1"
  }
 },
 "nbformat": 4,
 "nbformat_minor": 2
}
