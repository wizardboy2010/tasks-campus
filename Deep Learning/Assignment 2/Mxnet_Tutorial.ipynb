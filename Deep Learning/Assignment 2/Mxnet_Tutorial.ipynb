{
 "cells": [
  {
   "cell_type": "code",
   "execution_count": 38,
   "metadata": {},
   "outputs": [],
   "source": [
    "from __future__ import print_function\n",
    "from zipfile import ZipFile\n",
    "\n",
    "import numpy as np\n",
    "from matplotlib import pyplot as plt\n",
    "import numpy as np\n",
    "import mxnet as mx\n",
    "from mxnet import nd, autograd, gluon\n",
    "import cv2\n",
    "from datetime import datetime\n",
    "from sklearn.model_selection import train_test_split"
   ]
  },
  {
   "cell_type": "code",
   "execution_count": 103,
   "metadata": {},
   "outputs": [],
   "source": [
    "##load your data here\n",
    "\n",
    "class DataLoader(object):\n",
    "    def __init__(self):\n",
    "        DIR = '../data/'\n",
    "        pass\n",
    "    \n",
    "    # Returns images and labels corresponding for training and testing. Default mode is train. \n",
    "    # For retrieving test data pass mode as 'test' in function call.\n",
    "    def load_data(self, mode = 'train'):\n",
    "        label_filename = mode + '_labels'\n",
    "        image_filename = mode + '_images'\n",
    "        label_zip = '../data/' + label_filename + '.zip'\n",
    "        image_zip = '../data/' + image_filename + '.zip'\n",
    "        with ZipFile(label_zip, 'r') as lblzip:\n",
    "            labels = np.frombuffer(lblzip.read(label_filename), dtype=np.uint8, offset=8)\n",
    "        with ZipFile(image_zip, 'r') as imgzip:\n",
    "            \n",
    "            images = np.frombuffer(imgzip.read(image_filename), dtype=np.uint8, offset=16).reshape(len(labels), 784)\n",
    "        return images, labels\n",
    "\n",
    "    def create_batches(self):\n",
    "        pass"
   ]
  },
  {
   "cell_type": "code",
   "execution_count": 121,
   "metadata": {},
   "outputs": [],
   "source": [
    "images_train , labels_train = DataLoader().load_data(\"train\")\n",
    "images_test , labels_test = DataLoader().load_data(\"test\")  \n",
    "X_train, X_val, y_train, y_val = train_test_split(images_train, labels_train, test_size=0.30, random_state=42)\n",
    "\n",
    "\n",
    "batch_size = 64\n",
    "num_inputs = 784\n",
    "num_outputs = 10\n",
    "num_examples = 60000\n",
    "train_data = []\n",
    "for index,data in enumerate(X_train):\n",
    "    temp = y_train[index]\n",
    "    train_data.append((data,temp))\n",
    "    \n",
    "val_data = []\n",
    "for index,data in enumerate(X_val):\n",
    "    temp = y_val[index]\n",
    "    val_data.append((data,temp))\n",
    "    \n",
    "test_data = []\n",
    "for index,data in enumerate(images_test):\n",
    "    temp = labels_test[index]\n",
    "    test_data.append((data,temp))\n",
    "    \n",
    "train_data  = mx.gluon.data.DataLoader(train_data, batch_size,shuffle = True)\n",
    "val_data = mx.gluon.data.DataLoader(val_data, batch_size,shuffle = False)\n",
    "test_data = mx.gluon.data.DataLoader(test_data, batch_size,shuffle = False)"
   ]
  },
  {
   "cell_type": "code",
   "execution_count": 105,
   "metadata": {},
   "outputs": [],
   "source": [
    "ctx = mx.gpu() if mx.test_utils.list_gpus() else mx.cpu()\n",
    "data_ctx = ctx\n",
    "model_ctx = ctx"
   ]
  },
  {
   "cell_type": "code",
   "execution_count": 106,
   "metadata": {},
   "outputs": [],
   "source": [
    "def transform(data, label):\n",
    "    return data.astype(np.float32)/255, label.astype(np.float32)"
   ]
  },
  {
   "cell_type": "code",
   "execution_count": 107,
   "metadata": {},
   "outputs": [],
   "source": [
    "def evaluate_accuracy(data_iterator, net):\n",
    "    acc = mx.metric.Accuracy()\n",
    "    for i, (data, label) in enumerate(data_iterator):\n",
    "        cumulative_loss = 0\n",
    "        data, label = transform(data,label)\n",
    "        data = data.as_in_context(model_ctx)\n",
    "        label = label.as_in_context(model_ctx)\n",
    "        output = net(data)\n",
    "        loss = softmax_cross_entropy(output, label)\n",
    "        cumulative_loss += nd.sum(loss).asscalar()\n",
    "        predictions = nd.argmax(output, axis=1)\n",
    "        acc.update(preds=predictions, labels=label)\n",
    "    return acc.get()[1], cumulative_loss"
   ]
  },
  {
   "cell_type": "code",
   "execution_count": 108,
   "metadata": {},
   "outputs": [],
   "source": [
    "def evaluate_accuracy_train(data_iterator, net):\n",
    "    acc = mx.metric.Accuracy()\n",
    "    for i, (data, label) in enumerate(data_iterator):\n",
    "        data, label = transform(data,label)\n",
    "        data = data.as_in_context(model_ctx)\n",
    "        label = label.as_in_context(model_ctx)\n",
    "        output = net(data)\n",
    "        predictions = nd.argmax(output, axis=1)\n",
    "        acc.update(preds=predictions, labels=label)\n",
    "    return acc.get()[1]"
   ]
  },
  {
   "cell_type": "code",
   "execution_count": 109,
   "metadata": {},
   "outputs": [],
   "source": [
    "class MLP(gluon.Block):\n",
    "    def __init__(self, **kwargs):\n",
    "        super(MLP, self).__init__(**kwargs)\n",
    "        with self.name_scope():\n",
    "            self.dense0 = gluon.nn.Dense(512)\n",
    "            self.dense1 = gluon.nn.Dense(128)\n",
    "            self.dense2 = gluon.nn.Dense(64)\n",
    "            self.dense3 = gluon.nn.Dense(32)\n",
    "            self.dense4 = gluon.nn.Dense(16)\n",
    "\n",
    "    def forward(self, x):\n",
    "        x = nd.relu(self.dense0(x))\n",
    "        x = nd.relu(self.dense1(x))\n",
    "        x = nd.relu(self.dense2(x))\n",
    "        x = nd.relu(self.dense3(x))\n",
    "        x = self.dense4(x)\n",
    "        return x"
   ]
  },
  {
   "cell_type": "code",
   "execution_count": 136,
   "metadata": {},
   "outputs": [],
   "source": [
    "net = MLP()\n",
    "net.collect_params().initialize(mx.init.Normal(sigma=.1), ctx=model_ctx)\n",
    "softmax_cross_entropy = gluon.loss.SoftmaxCrossEntropyLoss()\n",
    "trainer = gluon.Trainer(net.collect_params(), 'adam', {'learning_rate': .01})\n",
    "epochs = 10\n",
    "smoothing_constant = .01"
   ]
  },
  {
   "cell_type": "code",
   "execution_count": 137,
   "metadata": {},
   "outputs": [],
   "source": [
    "network_1_train_loss = []\n",
    "network_1_valid_loss = []"
   ]
  },
  {
   "cell_type": "code",
   "execution_count": 139,
   "metadata": {},
   "outputs": [
    {
     "name": "stdout",
     "output_type": "stream",
     "text": [
      "Epoch 0. Loss: 0.45978637121915816, Train_acc 0.8242619047619048, Valid_acc 0.8182777777777778, Valid_Loss 0.0001321105400721232, Time For Epoch(in secs) 12.090284\n",
      "Epoch 1. Loss: 0.3194169504165649, Train_acc 0.8393333333333334, Valid_acc 0.8361111111111111, Valid_Loss 0.00015681910514831542, Time For Epoch(in secs) 17.780693\n",
      "Epoch 2. Loss: 0.2932974465529124, Train_acc 0.8498571428571429, Valid_acc 0.8456111111111111, Valid_Loss 6.898427804311116e-05, Time For Epoch(in secs) 20.503836\n",
      "Epoch 3. Loss: 0.27346461867491406, Train_acc 0.8711428571428571, Valid_acc 0.8621111111111112, Valid_Loss 8.938953876495361e-05, Time For Epoch(in secs) 21.002641\n",
      "Epoch 4. Loss: 0.26961541442871095, Train_acc 0.8740476190476191, Valid_acc 0.8632222222222222, Valid_Loss 9.53135093053182e-05, Time For Epoch(in secs) 20.827708\n",
      "Epoch 5. Loss: 0.25301874960859616, Train_acc 0.8727142857142857, Valid_acc 0.8627222222222222, Valid_Loss 0.00015815919240315756, Time For Epoch(in secs) 23.545171\n",
      "Epoch 6. Loss: 0.25271662440299986, Train_acc 0.8852619047619048, Valid_acc 0.8706666666666667, Valid_Loss 7.793287436167399e-05, Time For Epoch(in secs) 23.833117\n",
      "Epoch 7. Loss: 0.24787848929564157, Train_acc 0.8843809523809524, Valid_acc 0.8685555555555555, Valid_Loss 8.54522705078125e-05, Time For Epoch(in secs) 23.643194\n",
      "Epoch 8. Loss: 0.25277764382362367, Train_acc 0.8709523809523809, Valid_acc 0.8552222222222222, Valid_Loss 0.00019097412427266438, Time For Epoch(in secs) 24.308599\n",
      "Epoch 9. Loss: 0.24949900637467703, Train_acc 0.8906428571428572, Valid_acc 0.8749444444444444, Valid_Loss 5.766978661219279e-05, Time For Epoch(in secs) 24.311031\n"
     ]
    }
   ],
   "source": [
    "for e in range(epochs):\n",
    "    cumulative_loss = 0\n",
    "    now = datetime.now()\n",
    "    for i, (data, label) in enumerate(train_data):\n",
    "        data , label = transform(data,label)\n",
    "        data = data.as_in_context(model_ctx)\n",
    "        label = label.as_in_context(model_ctx)\n",
    "\n",
    "        with autograd.record():\n",
    "            output = net(data)\n",
    "            loss = softmax_cross_entropy(output, label)\n",
    "        loss.backward()\n",
    "        trainer.step(64)\n",
    "        cumulative_loss += nd.sum(loss).asscalar()\n",
    "\n",
    "\n",
    "    val_accuracy, v_loss = evaluate_accuracy(val_data, net)\n",
    "    train_accuracy = evaluate_accuracy_train(train_data, net)\n",
    "    later = datetime.now()\n",
    "    difference = (later-now).total_seconds()\n",
    "    network_1_train_loss.append(cumulative_loss/num_examples)\n",
    "    network_1_valid_loss.append(v_loss/num_examples)\n",
    "    print(\"Epoch %s. Loss: %s, Train_acc %s, Valid_acc %s, Valid_Loss %s, Time For Epoch(in secs) %s\" %\n",
    "          (e, cumulative_loss/num_examples, train_accuracy, val_accuracy, v_loss/num_examples, difference))"
   ]
  },
  {
   "cell_type": "code",
   "execution_count": 131,
   "metadata": {},
   "outputs": [
    {
     "data": {
      "image/png": "[encoded data removed]",
      "text/plain": [
       "<matplotlib.figure.Figure at 0x11f91f8fbe0>"
      ]
     },
     "metadata": {},
     "output_type": "display_data"
    }
   ],
   "source": [
    "plt.figure(\"Image\")\n",
    "plt.title(\"Network 1 Loss vs Epoch\")\n",
    "network_1_valid_loss =  [float(i)/sum(network_1_valid_loss) for i in network_1_valid_loss]\n",
    "network_1_train_loss =  [float(i)/sum(network_1_train_loss) for i in network_1_train_loss]\n",
    "plt.plot(network_1_valid_loss, c=\"red\", label=\"Validation Loss\")\n",
    "plt.plot(network_1_train_loss, c=\"blue\", label = \"Training Loss\")\n",
    "plt.legend()\n",
    "plt.savefig('exp_'+str(\"Image\")+'.png')"
   ]
  },
  {
   "cell_type": "code",
   "execution_count": 115,
   "metadata": {},
   "outputs": [
    {
     "data": {
      "text/plain": [
       "[0.00020573606491088866, 7.178879578908285e-05, 0.00014443669319152833]"
      ]
     },
     "execution_count": 115,
     "metadata": {},
     "output_type": "execute_result"
    }
   ],
   "source": [
    "network_1_valid_loss"
   ]
  },
  {
   "cell_type": "code",
   "execution_count": 92,
   "metadata": {},
   "outputs": [
    {
     "name": "stdout",
     "output_type": "stream",
     "text": [
      "Saving\n",
      "Saved\n"
     ]
    }
   ],
   "source": [
    "print ('Saving')\n",
    "net.save_parameters(\"NN1.params\")\n",
    "print ('Saved')"
   ]
  },
  {
   "cell_type": "code",
   "execution_count": 133,
   "metadata": {},
   "outputs": [
    {
     "data": {
      "text/plain": [
       "mlp23_ (\n",
       "  Parameter mlp23_dense0_weight (shape=(512, 784), dtype=float32)\n",
       "  Parameter mlp23_dense0_bias (shape=(512,), dtype=float32)\n",
       "  Parameter mlp23_dense1_weight (shape=(128, 512), dtype=float32)\n",
       "  Parameter mlp23_dense1_bias (shape=(128,), dtype=float32)\n",
       "  Parameter mlp23_dense2_weight (shape=(64, 128), dtype=float32)\n",
       "  Parameter mlp23_dense2_bias (shape=(64,), dtype=float32)\n",
       "  Parameter mlp23_dense3_weight (shape=(32, 64), dtype=float32)\n",
       "  Parameter mlp23_dense3_bias (shape=(32,), dtype=float32)\n",
       "  Parameter mlp23_dense4_weight (shape=(16, 32), dtype=float32)\n",
       "  Parameter mlp23_dense4_bias (shape=(16,), dtype=float32)\n",
       ")"
      ]
     },
     "execution_count": 133,
     "metadata": {},
     "output_type": "execute_result"
    }
   ],
   "source": [
    "net1 = MLP()\n",
    "net1.load_parameters(\"NN1.params\")\n",
    "net1.collect_params()"
   ]
  },
  {
   "cell_type": "code",
   "execution_count": 134,
   "metadata": {},
   "outputs": [
    {
     "name": "stdout",
     "output_type": "stream",
     "text": [
      "Total Accuracy:  0.8589769108280255\n"
     ]
    }
   ],
   "source": [
    "cnt = 0\n",
    "accuracy = 0\n",
    "for i, (data, label) in enumerate(test_data):\n",
    "    data , label = transform(data,label)\n",
    "    data = data.as_in_context(model_ctx).reshape((-1, 784))\n",
    "    label = label.as_in_context(model_ctx)\n",
    "    with autograd.record():\n",
    "        output = net1(data)\n",
    "\n",
    "        acc = mx.metric.Accuracy()\n",
    "        acc.update(preds=nd.argmax(output,axis=1),labels=label)\n",
    "        #print(\"Test Accuracy : %f\"%acc.get()[1])\n",
    "        accuracy = accuracy + acc.get()[1]\n",
    "        cnt = cnt + 1\n",
    "\n",
    "print(\"Total Accuracy: \", float(accuracy/cnt))"
   ]
  },
  {
   "cell_type": "code",
   "execution_count": null,
   "metadata": {},
   "outputs": [],
   "source": []
  }
 ],
 "metadata": {
  "kernelspec": {
   "display_name": "Python 3",
   "language": "python",
   "name": "python3"
  },
  "language_info": {
   "codemirror_mode": {
    "name": "ipython",
    "version": 3
   },
   "file_extension": ".py",
   "mimetype": "text/x-python",
   "name": "python",
   "nbconvert_exporter": "python",
   "pygments_lexer": "ipython3",
   "version": "3.7.1"
  }
 },
 "nbformat": 4,
 "nbformat_minor": 2
}
