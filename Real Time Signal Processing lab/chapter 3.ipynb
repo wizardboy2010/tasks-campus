{
 "cells": [
  {
   "cell_type": "markdown",
   "metadata": {},
   "source": [
    "## Chapter 3"
   ]
  },
  {
   "cell_type": "code",
   "execution_count": 1,
   "metadata": {},
   "outputs": [],
   "source": [
    "from matplotlib.patches import FancyArrow\n",
    "import mpl_toolkits.mplot3d.art3d as art3d\n",
    "from mpl_toolkits.mplot3d.art3d import Poly3DCollection\n",
    "import matplotlib.gridspec as gridspec"
   ]
  },
  {
   "cell_type": "code",
   "execution_count": 2,
   "metadata": {},
   "outputs": [
    {
     "ename": "SyntaxError",
     "evalue": "invalid syntax (<ipython-input-2-80e4ef124a7e>, line 7)",
     "output_type": "error",
     "traceback": [
      "\u001b[1;36m  File \u001b[1;32m\"<ipython-input-2-80e4ef124a7e>\"\u001b[1;36m, line \u001b[1;32m7\u001b[0m\n\u001b[1;33m    create matrix return U/sqrt(Nfft)\u001b[0m\n\u001b[1;37m                ^\u001b[0m\n\u001b[1;31mSyntaxError\u001b[0m\u001b[1;31m:\u001b[0m invalid syntax\n"
     ]
    }
   ],
   "source": [
    "def dftmatrix(Nfft=32,N=None):\n",
    "    #construct DFT matrix’\n",
    "    k= np.arange(Nfft)\n",
    "    if N is None: N = Nfft\n",
    "    n = arange(N)\n",
    "    U = matrix(exp(1j* 2*pi/Nfft *k*n[:,None])) # use numpy broadcasting to create matrix \n",
    "    return U/sqrt(Nfft)"
   ]
  },
  {
   "cell_type": "code",
   "execution_count": null,
   "metadata": {},
   "outputs": [],
   "source": [
    "Nfft=16\n",
    "v = ones((16,1))\n",
    "U = dftmatrix(Nfft=Nfft,N=16)\n",
    "# ---\n",
    "# hardcoded constants to format complicated figure\n",
    "\n",
    "gs = gridspec.GridSpec(8,12)\n",
    "gs.update( wspace=1, left=0.01)\n",
    "\n",
    "fig =figure(figsize=(10,5))\n",
    "ax0 = subplot(gs[:,:3])\n",
    "fig.add_subplot(ax0)\n",
    "\n",
    "ax0.set_aspect(1)\n",
    "a=2*pi/Nfft*arange(Nfft)\n",
    "\n",
    "colors = [’k’,’b’,’r’,’m’,’g’,’Brown’,’DarkBlue’,’Tomato’,’Violet’, ’Tan’,\n",
    "’Salmon’,’Pink’,’SaddleBrown’, ’SpringGreen’, ’RosyBrown’,’Silver’,]\n",
    "\n",
    "for j,i in enumerate(a):\n",
    "    ax0.add_patch(FancyArrow(0,0,cos(i),sin(i),width=0.02,\n",
    "36 length_includes_head=True,edgecolor=colors[j]))\n",
    "37\n",
    "38 ax0.text(1,0.1,’0’,fontsize=16)\n",
    "39 ax0.text(0.1,1,r’$\\frac{\\pi}{2}$’,fontsize=22)\n",
    "40 ax0.text(-1,0.1,r’$\\pi$’,fontsize=18)\n",
    "41 ax0.text(0.1,-1.2,r’$\\frac{3\\pi}{2}$’,fontsize=22)\n",
    "42 ax0.axis(array([-1,1,-1,1])*1.45)\n",
    "43 ax0.set_title(’Radial Frequency’,fontsize=18)\n",
    "44 ax0.set_xlabel(’Real’)\n",
    "45 ax0.set_ylabel(’Imaginary’)\n",
    "\n",
    "46 # plots in the far right column\n",
    "47 for i in range(8):\n",
    "48 ax=subplot(gs[i,8:])\n",
    "49 ax.set_xticks([]); ax.set_yticks([])\n",
    "50 ax.set_ylabel(r’$\\omega_{%d}=%d\\times\\frac{2\\pi}{16}$’%(i+8,i+8),fontsize=16,\n",
    "51 rotation=’horizontal’)\n",
    "52 ax.plot(U.real[:,i+8],’-o’,color=colors[i+8])\n",
    "53 ax.plot(U.imag[:,i+8],’--o’,color=colors[i+8],alpha=0.2)\n",
    "54 ax.axis(ymax=4/Nfft*1.1,ymin=-4/Nfft*1.1)\n",
    "55 ax.yaxis.set_label_position(’right’)\n",
    "56 ax.set_xticks(arange(16))\n",
    "57 ax.set_xlabel(’n’)"
   ]
  }
 ],
 "metadata": {
  "kernelspec": {
   "display_name": "Python 3",
   "language": "python",
   "name": "python3"
  },
  "language_info": {
   "codemirror_mode": {
    "name": "ipython",
    "version": 3
   },
   "file_extension": ".py",
   "mimetype": "text/x-python",
   "name": "python",
   "nbconvert_exporter": "python",
   "pygments_lexer": "ipython3",
   "version": "3.5.3"
  }
 },
 "nbformat": 4,
 "nbformat_minor": 2
}
