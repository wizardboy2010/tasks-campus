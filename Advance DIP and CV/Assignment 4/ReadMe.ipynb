{
 "cells": [
  {
   "cell_type": "markdown",
   "metadata": {},
   "source": [
    "# Talluri Surya Teja\n",
    "## 15EE3508"
   ]
  },
  {
   "cell_type": "markdown",
   "metadata": {},
   "source": [
    "I have used Matlab to do the assignment"
   ]
  },
  {
   "cell_type": "markdown",
   "metadata": {},
   "source": [
    "#### Extracting Features"
   ]
  },
  {
   "cell_type": "markdown",
   "metadata": {},
   "source": [
    "I have used detectSURFFeatures() function to extract all the SURF features of images\n",
    "\n",
    "I have displayed 5 strong features of the images with their orientation\n",
    "\n"
   ]
  },
  {
   "cell_type": "markdown",
   "metadata": {},
   "source": [
    "![Features](features.jpg)"
   ]
  },
  {
   "cell_type": "markdown",
   "metadata": {},
   "source": [
    "By using extractFeatures() and matchFeatures() we match the common features\n",
    "\n",
    "There are total of 22 common features"
   ]
  },
  {
   "cell_type": "markdown",
   "metadata": {},
   "source": [
    "![Common Features](matched.jpg)"
   ]
  },
  {
   "cell_type": "markdown",
   "metadata": {},
   "source": [
    "#### Fundamental Matrix"
   ]
  },
  {
   "cell_type": "markdown",
   "metadata": {},
   "source": [
    "By using estimateFundamentalMatrix() it randomly chooses 8 points (so matrix changes every time we run) and find fundamental matrix by RANSAC Algorithm"
   ]
  },
  {
   "cell_type": "markdown",
   "metadata": {},
   "source": [
    "Fundamental Matrix:\n",
    "\n",
    "2.15124380686708e-07\t 4.67040243919577e-06\t-0.00146426878923856\n",
    "4.94310762762078e-06\t-7.43404421036005e-07\t-0.00341047465952049\n",
    "-0.00133507342680101\t-8.10723333629771e-05\t 0.999992217751630"
   ]
  },
  {
   "cell_type": "markdown",
   "metadata": {},
   "source": [
    "For finding epipoles, \n",
    "      Apply svd and from first and third matrix we can get epipoles"
   ]
  },
  {
   "cell_type": "markdown",
   "metadata": {},
   "source": [
    "ep1 =\n",
    "\n",
    "  480.4455\n",
    "  \n",
    "  309.0720\n",
    "\n",
    "\n",
    "ep2 =\n",
    "\n",
    "  831.8305\n",
    "  \n",
    "  312.7878\n"
   ]
  },
  {
   "cell_type": "markdown",
   "metadata": {},
   "source": [
    "![epipoles](epipoles.jpg)"
   ]
  },
  {
   "cell_type": "markdown",
   "metadata": {},
   "source": [
    "### Epipoler lines"
   ]
  },
  {
   "cell_type": "markdown",
   "metadata": {},
   "source": [
    "I found using epipolarLine()"
   ]
  },
  {
   "cell_type": "markdown",
   "metadata": {},
   "source": [
    "![epipolar lines](epipolar_lines.jpg)"
   ]
  }
 ],
 "metadata": {
  "kernelspec": {
   "display_name": "Python 3",
   "language": "python",
   "name": "python3"
  },
  "language_info": {
   "codemirror_mode": {
    "name": "ipython",
    "version": 3
   },
   "file_extension": ".py",
   "mimetype": "text/x-python",
   "name": "python",
   "nbconvert_exporter": "python",
   "pygments_lexer": "ipython3",
   "version": "3.7.1"
  }
 },
 "nbformat": 4,
 "nbformat_minor": 2
}
