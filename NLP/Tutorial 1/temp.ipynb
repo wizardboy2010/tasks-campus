{
 "cells": [
  {
   "cell_type": "code",
   "execution_count": 217,
   "metadata": {},
   "outputs": [
    {
     "name": "stdout",
     "output_type": "stream",
     "text": [
      "[['The', 'Fulton', 'County', 'Grand', 'Jury', 'said', 'Friday', 'an', 'investigation', 'of', \"Atlanta's\", 'recent', 'primary', 'election', 'produced', '``', 'no', 'evidence', \"''\", 'that', 'any', 'irregularities', 'took', 'place', '.'], ['The', 'jury', 'further', 'said', 'in', 'term-end', 'presentments', 'that', 'the', 'City', 'Executive', 'Committee', ',', 'which', 'had', 'over-all', 'charge', 'of', 'the', 'election', ',', '``', 'deserves', 'the', 'praise', 'and', 'thanks', 'of', 'the', 'City', 'of', 'Atlanta', \"''\", 'for', 'the', 'manner', 'in', 'which', 'the', 'election', 'was', 'conducted', '.'], ...]\n",
      "['the', 'fulton', 'county', 'grand', 'jury', 'said', 'friday', 'an', 'investigation', 'of', 'atlantas', 'recent', 'primary', 'election', 'produced', 'no', 'evidence', 'that', 'any', 'irregularities', 'took', 'place'] 40000\n"
     ]
    }
   ],
   "source": [
    "import nltk\n",
    "from nltk.corpus import brown\n",
    "from nltk import bigrams, ngrams, trigrams\n",
    "import re\n",
    "import numpy as np\n",
    "from itertools import chain\n",
    "from collections import Counter\n",
    "import math\n",
    "\n",
    "\n",
    "print(brown.sents())\n",
    "sent = [[y.lower() for y in x] for x in brown.sents()[0:40000]]\n",
    "sent = [[re.sub('[^A-Za-z]', '', y) for y in x if re.sub('[^A-Za-z]', '', y)!=''] for x in sent]\n",
    "\n",
    "print(sent[0], len(sent))"
   ]
  },
  {
   "cell_type": "code",
   "execution_count": 218,
   "metadata": {
    "collapsed": true,
    "scrolled": true
   },
   "outputs": [],
   "source": [
    "unigrams = list(chain.from_iterable(sent))\n",
    "unigram_counts=Counter(unigrams)\n",
    "unigram_counts['_'] = 2*40000\n",
    "unigram_total=len(unigrams)\n",
    "for word in unigram_counts:\n",
    "    unigram_counts[word]/=unigram_total\n",
    "#print(unigram_counts)"
   ]
  },
  {
   "cell_type": "code",
   "execution_count": 219,
   "metadata": {
    "collapsed": true,
    "scrolled": true
   },
   "outputs": [],
   "source": [
    "def bigram_model(sentences):\n",
    "    model={}\n",
    "    for sent in sentences:\n",
    "         for w1,w2 in ngrams(sent,2, pad_left=True,pad_right=True):\n",
    "            if w1 not in model:\n",
    "                model[w1]={}\n",
    "            if w2 not in model[w1]:\n",
    "                model[w1][w2]=0\n",
    "            model[w1][w2]+=1\n",
    "    for w1 in model:\n",
    "        tot_count=float(sum(model[w1].values()))\n",
    "        for w2 in model[w1]:\n",
    "            model[w1][w2]/=tot_count\n",
    "     \n",
    "    return model\n",
    "\n",
    "bigram_counts= bigram_model(sent)\n",
    "#print(bigram_counts)"
   ]
  },
  {
   "cell_type": "code",
   "execution_count": 220,
   "metadata": {
    "collapsed": true
   },
   "outputs": [],
   "source": [
    "def trigram_model(sentences):\n",
    "    model={}\n",
    "    for sent in sentences:\n",
    "         for w1,w2,w3 in ngrams(sent,3, pad_left=True,pad_right=True):\n",
    "            if (w1,w2) not in model:\n",
    "                model[(w1,w2)]={}\n",
    "            if w3 not in model[(w1,w2)]:\n",
    "                model[(w1,w2)][w3]=0\n",
    "            model[(w1,w2)][w3]+=1\n",
    "    for (w1,w2) in model:\n",
    "        tot_count=float(sum(model[(w1,w2)].values()))\n",
    "        for w3 in model[(w1,w2)]:\n",
    "            model[(w1,w2)][w3]/=tot_count\n",
    "     \n",
    "    return model\n",
    "\n",
    "trigram_counts= trigram_model(sent)\n",
    "#print(trigram_counts)"
   ]
  },
  {
   "cell_type": "code",
   "execution_count": 221,
   "metadata": {},
   "outputs": [
    {
     "name": "stdout",
     "output_type": "stream",
     "text": [
      "TOP 10 UNIGRAMS:\n",
      "_\n",
      "the\n",
      "of\n",
      "and\n",
      "to\n",
      "a\n",
      "in\n",
      "is\n",
      "that\n",
      "for\n"
     ]
    }
   ],
   "source": [
    "#unigrams counts\n",
    "\n",
    "print(\"TOP 10 UNIGRAMS:\")\n",
    "for key, value in unigram_counts.most_common(10):\n",
    "    print(key)\n",
    "    "
   ]
  },
  {
   "cell_type": "code",
   "execution_count": 222,
   "metadata": {},
   "outputs": [
    {
     "name": "stdout",
     "output_type": "stream",
     "text": [
      "TOP 10 BIGRAMS\n",
      "('_', 'the')\n",
      "('of', 'the')\n",
      "('in', 'the')\n",
      "('_', 'in')\n",
      "('_', 'it')\n",
      "('to', 'the')\n",
      "('_', 'he')\n",
      "('_', 'this')\n",
      "('_', 'but')\n",
      "('_', 'a')\n"
     ]
    }
   ],
   "source": [
    "#bigram counts\n",
    "print (\"TOP 10 BIGRAMS\")\n",
    "bcounts = {}\n",
    "for key, value in bigram_counts.items():\n",
    "    s1 = key\n",
    "    if(s1==None):\n",
    "        s1='_'\n",
    "    p = unigram_counts[s1]\n",
    "    for k, v in value.items():\n",
    "        s2 = k\n",
    "        if(s2==None):\n",
    "            s2='_'\n",
    "        bcounts[(s1,s2)]= v*p\n",
    "bitems = [(v, k) for k, v in bcounts.items()]\n",
    "bitems.sort()\n",
    "bitems.reverse()\n",
    "bitems = [(k, v) for v, k in bitems]\n",
    "for k,v in bitems[0:10]:\n",
    "    print(k)"
   ]
  },
  {
   "cell_type": "code",
   "execution_count": 223,
   "metadata": {},
   "outputs": [
    {
     "name": "stdout",
     "output_type": "stream",
     "text": [
      "TOP 10 TRIGRAMS\n",
      "('_', 'it', 'is')\n",
      "('_', 'in', 'the')\n",
      "('_', 'it', 'was')\n",
      "('_', 'this', 'is')\n",
      "('_', 'there', 'is')\n",
      "('_', 'he', 'was')\n",
      "('_', 'on', 'the')\n",
      "('_', 'but', 'the')\n",
      "('_', 'there', 'are')\n",
      "('the', 'united', 'states')\n"
     ]
    }
   ],
   "source": [
    "#trigram counts\n",
    "print (\"TOP 10 TRIGRAMS\")\n",
    "tcounts = {}\n",
    "for key, value in trigram_counts.items():\n",
    "    s1 = key[0]\n",
    "    if(s1==None):\n",
    "        s1='_'\n",
    "    s2 = key[1]\n",
    "    if(s2==None):\n",
    "        s2='_'\n",
    "    p = bcounts[(s1,s2)]*unigram_counts[s1]\n",
    "    for k, v in value.items():\n",
    "        s3 = k\n",
    "        if(s3==None):\n",
    "            s3='_'\n",
    "        tcounts[(s1,s2,s3)] = p*v\n",
    "titems = [(v, k) for k, v in tcounts.items()]\n",
    "titems.sort()\n",
    "titems.reverse()\n",
    "titems = [(k, v) for v, k in titems]\n",
    "for k,v in titems[0:10]:\n",
    "    print(k)"
   ]
  },
  {
   "cell_type": "code",
   "execution_count": 238,
   "metadata": {},
   "outputs": [
    {
     "name": "stdout",
     "output_type": "stream",
     "text": [
      "[['he', 'lived', 'a', 'good', 'life'], ['the', 'man', 'was', 'happy'], ['the', 'person', 'was', 'good'], ['the', 'girl', 'was', 'sad'], ['he', 'won', 'the', 'war']]\n",
      "\n",
      "UNIGRAM model\n",
      "-53.72305858992935 \t 1715.7358223779738\n",
      "-41.15377306182752 \t 1250.6334248191617\n",
      "-40.1854180524399 \t 1057.4359118874631\n",
      "-45.825409974027565 \t 2809.996257215713\n",
      "-42.087205551464166 \t 1470.204765618504\n",
      "\n",
      "BIGRAM model\n",
      "-65.00823474424979 \t 624.644126176937\n",
      "-51.4958293385688 \t 383.38184854556533\n",
      "-53.65179779938966 \t 491.8130818840422\n",
      "Bigram Not found\n",
      "-51.08920948382118 \t 365.7890929215067\n",
      "\n",
      "TRIGRAM model\n",
      "Trigram Not found\n",
      "Trigram Not found\n",
      "Trigram Not found\n",
      "Trigram Not found\n",
      "-106.09974288697859 \t 9826.540369216864\n"
     ]
    }
   ],
   "source": [
    "\n",
    "f = open(\"test_examples.txt\",'r')\n",
    "out = f.readlines() # will append in the list out\n",
    "lines = []\n",
    "for line in out:\n",
    "    lines.append(line.split())\n",
    "\n",
    "lines = [[y.lower() for y in x] for x in lines]\n",
    "lines = [[re.sub('[^A-Za-z]', '', y) for y in x if re.sub('[^A-Za-z]', '', y)!=''] for x in lines]\n",
    "print(lines)\n",
    "print(\"\\nUNIGRAM model\")\n",
    "for line in lines:\n",
    "    loghd1 = 2*math.log(unigram_counts['_'],2)\n",
    "    try:\n",
    "        for w in line:\n",
    "            loghd1 += math.log(unigram_counts[w],2)\n",
    "        print(loghd1,\"\\t\" ,2**(-loghd1/len(line)))\n",
    "    except KeyError:\n",
    "        print(\"Unigram Not found\")\n",
    "\n",
    "print(\"\\nBIGRAM model\")\n",
    "for line in lines:\n",
    "    line.insert(0, '_')\n",
    "    line.insert(len(line),'_')\n",
    "for line in lines:\n",
    "    loghd = math.log(unigram_counts['_'],2)\n",
    "    try:\n",
    "        for i in range(len(line)-1):\n",
    "            loghd += math.log(bcounts[(line[i], line[i+1])])\n",
    "        print(loghd,\"\\t\" ,2**(-loghd/len(line)))\n",
    "    except KeyError:\n",
    "        print(\"Bigram Not found\")\n",
    "        \n",
    "print(\"\\nTRIGRAM model\")\n",
    "for line in lines:\n",
    "    line.insert(0, '_')\n",
    "    line.insert(len(line),'_')\n",
    "for line in lines:\n",
    "    loghd = 2*math.log(unigram_counts['_'],2)\n",
    "    try:\n",
    "        for i in range(len(line)-2):\n",
    "            loghd += math.log(tcounts[(line[i], line[i+1], line[i+2])])\n",
    "        print(loghd,\"\\t\" ,2**(-loghd/len(line)))\n",
    "    except KeyError:\n",
    "        print(\"Trigram Not found\")"
   ]
  },
  {
   "cell_type": "code",
   "execution_count": null,
   "metadata": {
    "collapsed": true
   },
   "outputs": [],
   "source": []
  },
  {
   "cell_type": "code",
   "execution_count": null,
   "metadata": {
    "collapsed": true
   },
   "outputs": [],
   "source": []
  }
 ],
 "metadata": {
  "kernelspec": {
   "display_name": "Python 3",
   "language": "python",
   "name": "python3"
  },
  "language_info": {
   "codemirror_mode": {
    "name": "ipython",
    "version": 3
   },
   "file_extension": ".py",
   "mimetype": "text/x-python",
   "name": "python",
   "nbconvert_exporter": "python",
   "pygments_lexer": "ipython3",
   "version": "3.6.5"
  }
 },
 "nbformat": 4,
 "nbformat_minor": 2
}
