{
 "cells": [
  {
   "cell_type": "markdown",
   "metadata": {},
   "source": [
    "# Assignment 1"
   ]
  },
  {
   "cell_type": "markdown",
   "metadata": {},
   "source": [
    "## Import Libraries"
   ]
  },
  {
   "cell_type": "code",
   "execution_count": 1,
   "metadata": {
    "collapsed": true
   },
   "outputs": [],
   "source": [
    "import nltk\n",
    "from nltk.corpus import brown\n",
    "from nltk import bigrams, ngrams, trigrams \n",
    "from collections import Counter\n",
    "import re\n",
    "from operator import itemgetter\n",
    "import matplotlib.pyplot as plt\n",
    "import numpy as np\n",
    "\n",
    "%matplotlib inline"
   ]
  },
  {
   "cell_type": "markdown",
   "metadata": {},
   "source": [
    "## Pre-process data"
   ]
  },
  {
   "cell_type": "code",
   "execution_count": 3,
   "metadata": {},
   "outputs": [
    {
     "data": {
      "text/plain": [
       "['The', 'Fulton', 'County', 'Grand', 'Jury', 'said', ...]"
      ]
     },
     "execution_count": 3,
     "metadata": {},
     "output_type": "execute_result"
    }
   ],
   "source": [
    "brown.words()"
   ]
  },
  {
   "cell_type": "code",
   "execution_count": 2,
   "metadata": {
    "collapsed": true
   },
   "outputs": [],
   "source": [
    "def clean(sent_list):\n",
    "    sent_list = [i.lower() for i in sent_list]\n",
    "    sent_pre = [re.sub('[^A-Za-z]', '', i) for i in sent_list]\n",
    "    return [i for i in sent_pre if i != '']"
   ]
  },
  {
   "cell_type": "code",
   "execution_count": 3,
   "metadata": {
    "collapsed": true
   },
   "outputs": [],
   "source": [
    "corpus_preproc = [clean(i) for i in brown.sents()[:40000]]"
   ]
  },
  {
   "cell_type": "markdown",
   "metadata": {},
   "source": [
    "## Models"
   ]
  },
  {
   "cell_type": "code",
   "execution_count": 4,
   "metadata": {
    "collapsed": true
   },
   "outputs": [],
   "source": [
    "def unigram_model(corpus):\n",
    "    unigrams = [j for i in corpus for j in i]\n",
    "    unigrams_count = Counter(unigrams)\n",
    "    unig_count['<s>'] = 40000\n",
    "    unig_count['</s>'] = 40000\n",
    "    unigrams_count = {i:unigrams_count[i]/len(unigrams) for i in unigrams_count}\n",
    "    return unigrams_count\n",
    "\n",
    "def bigram_model(corpus):\n",
    "    model = {}\n",
    "    for i in corpus:\n",
    "        for w1, w2 in ngrams(i, 2, pad_left=True, pad_right=True, left_pad_symbol='<s>', right_pad_symbol='</s>'):\n",
    "            if w1 not in model:\n",
    "                model[w1] = []\n",
    "            model[w1].append(w2)\n",
    "    model = {i:Counter(model[i]) for i in model}\n",
    "    model = {i:{j:model[i][j]/sum(model[i].values()) for j in model[i]} for i in model}\n",
    "    return model\n",
    "\n",
    "def trigram_model(corpus):\n",
    "    model = {}\n",
    "    for i in corpus:\n",
    "        for w1, w2, w3 in ngrams(i, 3, pad_left=True, pad_right=True, left_pad_symbol='<s>', right_pad_symbol='</s>'):\n",
    "            if (w1, w2) not in model:\n",
    "                model[(w1, w2)] = []\n",
    "            model[(w1, w2)].append(w3)\n",
    "    model = {i:Counter(model[i]) for i in model}\n",
    "    model = {i:{j:model[i][j]/sum(model[i].values()) for j in model[i]} for i in model}\n",
    "    return model"
   ]
  },
  {
   "cell_type": "code",
   "execution_count": 5,
   "metadata": {
    "collapsed": true
   },
   "outputs": [],
   "source": [
    "unigram_brown = unigram_model(corpus_preproc)\n",
    "bigram_brown = bigram_model(corpus_preproc)\n",
    "trigram_brown = trigram_model(corpus_preproc)"
   ]
  },
  {
   "cell_type": "markdown",
   "metadata": {},
   "source": [
    "## Ziph's law"
   ]
  },
  {
   "cell_type": "markdown",
   "metadata": {},
   "source": [
    "### Unigram"
   ]
  },
  {
   "cell_type": "code",
   "execution_count": 48,
   "metadata": {},
   "outputs": [
    {
     "data": {
      "image/png": "[encoded data removed]",
      "text/plain": [
       "<matplotlib.figure.Figure at 0x7f0319ebd5c0>"
      ]
     },
     "metadata": {},
     "output_type": "display_data"
    }
   ],
   "source": [
    "unigrams = [j for i in corpus_preproc for j in i]\n",
    "unig_count = Counter(unigrams)\n",
    "unig_count['<s>'] = 40000\n",
    "unig_count['</s>'] = 40000\n",
    "unig_count = list(reversed(sorted(unig_count.items(), key = itemgetter(1))))\n",
    "\n",
    "unig = [i[0] for i in unig_count[:10]]\n",
    "y_pos = list(range(10))\n",
    "freq = [i[1] for i in unig_count[:10]]\n",
    "\n",
    "#plt.figure(figsize=(20,10))\n",
    "# plt.bar(y_pos, freq, align='center', alpha=0.5)\n",
    "# plt.xticks(y_pos, unig)\n",
    "# plt.ylabel('frequency')\n",
    "plt.title(\"Ziph's law for unigram\")\n",
    "plt.plot([i[1] for i in unig_count[:50]])\n",
    "plt.show()"
   ]
  },
  {
   "cell_type": "markdown",
   "metadata": {},
   "source": [
    "### Bigram"
   ]
  },
  {
   "cell_type": "code",
   "execution_count": 44,
   "metadata": {},
   "outputs": [
    {
     "data": {
      "image/png": "[encoded data removed]",
      "text/plain": [
       "<matplotlib.figure.Figure at 0x7f03198a9fd0>"
      ]
     },
     "metadata": {},
     "output_type": "display_data"
    }
   ],
   "source": [
    "bigrams = []\n",
    "for i in corpus_preproc:\n",
    "    bigrams += [i for i in ngrams(i, 2, pad_left=True, pad_right=True, left_pad_symbol='<s>', right_pad_symbol='</s>')]\n",
    "bigrams = [(' ' if j is None else j for j in i) if (None in i) else i for i in bigrams]\n",
    "bi_count = Counter(bigrams)\n",
    "bi_count = list(reversed(sorted(bi_count.items(), key = itemgetter(1))))\n",
    "\n",
    "unig = [i[0] for i in bi_count[:10]]\n",
    "y_pos = list(range(10))\n",
    "freq = [i[1] for i in bi_count[:10]]\n",
    "\n",
    "# plt.figure(figsize=(20,10))\n",
    "# plt.bar(y_pos, freq, align='center', alpha=0.5)\n",
    "# plt.xticks(y_pos, unig)\n",
    "# plt.ylabel('frequency')\n",
    "plt.title(\"Ziph's law for bigram\")\n",
    "plt.plot([i[1] for i in bi_count[:50]])\n",
    "plt.show()"
   ]
  },
  {
   "cell_type": "markdown",
   "metadata": {},
   "source": [
    "### Trigram"
   ]
  },
  {
   "cell_type": "code",
   "execution_count": 46,
   "metadata": {},
   "outputs": [
    {
     "data": {
      "image/png": "[encoded data removed]",
      "text/plain": [
       "<matplotlib.figure.Figure at 0x7f0319d1bc50>"
      ]
     },
     "metadata": {},
     "output_type": "display_data"
    }
   ],
   "source": [
    "trigrams = []\n",
    "for i in corpus_preproc:\n",
    "    trigrams += [i for i in ngrams(i, 3, pad_left=True, pad_right=True, left_pad_symbol='<s>', right_pad_symbol='</s>')]\n",
    "trigrams = [(' ' if j is None else j for j in i) if (None in i) else i for i in trigrams]\n",
    "tri_count = Counter(trigrams)\n",
    "tri_count = list(reversed(sorted(tri_count.items(), key = itemgetter(1))))\n",
    "\n",
    "tri = [i[0] for i in tri_count[:10]]\n",
    "y_pos = list(range(10))\n",
    "freq = [i[1] for i in tri_count[:10]]\n",
    "\n",
    "# plt.figure(figsize=(20,10))\n",
    "# plt.bar(y_pos, freq, align='center', alpha=0.5)\n",
    "# plt.xticks(y_pos, tri)\n",
    "# plt.ylabel('frequency')\n",
    "plt.title(\"Ziph's law for Trigram\")\n",
    "\n",
    "# plt.show()\n",
    "\n",
    "plt.plot([i[1] for i in tri_count[:50]])\n",
    "plt.show()"
   ]
  },
  {
   "cell_type": "markdown",
   "metadata": {},
   "source": [
    "## Top 10"
   ]
  },
  {
   "cell_type": "markdown",
   "metadata": {},
   "source": [
    "### Unigrams"
   ]
  },
  {
   "cell_type": "code",
   "execution_count": 49,
   "metadata": {
    "scrolled": true
   },
   "outputs": [
    {
     "name": "stdout",
     "output_type": "stream",
     "text": [
      "the 56448\n",
      "</s> 40000\n",
      "<s> 40000\n",
      "of 31276\n",
      "and 22092\n",
      "to 20341\n",
      "a 17780\n",
      "in 17705\n",
      "is 9474\n",
      "that 8240\n"
     ]
    }
   ],
   "source": [
    "for i, j in unig_count[:10]:\n",
    "    print(i, j)"
   ]
  },
  {
   "cell_type": "markdown",
   "metadata": {},
   "source": [
    "### Bigrams"
   ]
  },
  {
   "cell_type": "code",
   "execution_count": 45,
   "metadata": {},
   "outputs": [
    {
     "name": "stdout",
     "output_type": "stream",
     "text": [
      "('of', 'the') 8508\n",
      "('<s>', 'the') 5798\n",
      "('in', 'the') 4985\n",
      "('to', 'the') 2819\n",
      "('and', 'the') 1848\n",
      "('on', 'the') 1821\n",
      "('for', 'the') 1591\n",
      "('<s>', 'in') 1585\n",
      "('<s>', 'it') 1516\n",
      "('it', 'is') 1390\n"
     ]
    }
   ],
   "source": [
    "for i, j in bi_count[:10]:\n",
    "    print(i, j)"
   ]
  },
  {
   "cell_type": "markdown",
   "metadata": {},
   "source": [
    "### Trigrams"
   ]
  },
  {
   "cell_type": "code",
   "execution_count": 53,
   "metadata": {
    "scrolled": true
   },
   "outputs": [
    {
     "name": "stdout",
     "output_type": "stream",
     "text": [
      "('<s>', '<s>', 'the') 5798\n",
      "('<s>', '<s>', 'in') 1585\n",
      "('<s>', '<s>', 'it') 1516\n",
      "('<s>', '<s>', 'he') 1377\n",
      "('<s>', '<s>', 'this') 1052\n",
      "('<s>', '<s>', 'but') 1038\n",
      "('<s>', '<s>', 'a') 955\n",
      "('<s>', '<s>', 'and') 831\n",
      "('<s>', '<s>', 'i') 675\n",
      "('<s>', '<s>', 'they') 590\n"
     ]
    }
   ],
   "source": [
    "for i, j in tri_count[:10]:\n",
    "    print(i, j)"
   ]
  },
  {
   "cell_type": "markdown",
   "metadata": {},
   "source": [
    "## Testing"
   ]
  },
  {
   "cell_type": "code",
   "execution_count": 34,
   "metadata": {},
   "outputs": [
    {
     "data": {
      "text/plain": [
       "[['he', 'lived', 'a', 'good', 'life'],\n",
       " ['the', 'man', 'was', 'happy'],\n",
       " ['the', 'person', 'was', 'good'],\n",
       " ['the', 'girl', 'was', 'sad'],\n",
       " ['he', 'won', 'the', 'war']]"
      ]
     },
     "execution_count": 34,
     "metadata": {},
     "output_type": "execute_result"
    }
   ],
   "source": [
    "f = open(\"test_examples.txt\",'r')\n",
    "test = [i. strip() for i in f.readlines()]\n",
    "test_clean = [clean(i.split()) for i in test]\n",
    "test_clean"
   ]
  },
  {
   "cell_type": "code",
   "execution_count": 41,
   "metadata": {
    "scrolled": true
   },
   "outputs": [
    {
     "name": "stdout",
     "output_type": "stream",
     "text": [
      "For Unigram\n",
      "\n",
      "For sentence.. he lived a good life \n",
      "probability: 6.31579394802e-15  \tlog-likelihood: -14.1995720472 \t Perplexity: 691.69463863\n",
      "\n",
      "For sentence.. the man was happy \n",
      "probability: 3.83848564498e-11  \tlog-likelihood: -10.4158400792 \t Perplexity: 401.753824571\n",
      "\n",
      "For sentence.. the person was good \n",
      "probability: 7.51041309361e-11  \tlog-likelihood: -10.1243361749 \t Perplexity: 339.691002502\n",
      "\n",
      "For sentence.. the girl was sad \n",
      "probability: 1.50611135001e-12  \tlog-likelihood: -11.8221429186 \t Perplexity: 902.683968749\n",
      "\n",
      "For sentence.. he won the war \n",
      "probability: 2.00987358508e-11  \tlog-likelihood: -10.6968312575 \t Perplexity: 472.288982341\n"
     ]
    }
   ],
   "source": [
    "print('For Unigram')\n",
    "for sent in test_clean:\n",
    "    try:\n",
    "        prob = np.prod([unigram_brown[j] for j in sent])\n",
    "        print('\\nFor sentence..', ' '.join(sent) ,'\\nprobability:', prob,' \\tlog-likelihood:', np.log10(prob),'\\t Perplexity:',(1/prob)**(1/len(sent)))\n",
    "    except:\n",
    "        print('\\nFor sentence..', ' '.join(sent) ,'\\nprobability:', prob,' \\tlog-likelihood: Inf\\tPerplexity:Inf')"
   ]
  },
  {
   "cell_type": "code",
   "execution_count": 42,
   "metadata": {},
   "outputs": [
    {
     "name": "stdout",
     "output_type": "stream",
     "text": [
      "For Bigram\n",
      "\n",
      "For sentence.. he lived a good life \n",
      "probability: 2.37783822206e-12  \tlog-likelihood: -11.6238176963 \tPerplexity: 211.233861956\n",
      "\n",
      "For sentence.. the man was happy \n",
      "probability: 2.88943840323e-10  \tlog-likelihood: -9.53918655935 \tPerplexity: 242.547409099\n",
      "\n",
      "For sentence.. the person was good \n",
      "probability: 1.70995361896e-11  \tlog-likelihood: -10.7670156693 \tPerplexity: 491.760812118\n",
      "\n",
      "For sentence.. the girl was sad \n",
      "probability: 1.70995361896e-11  \tlog-likelihood: Inf\tPerplexity:Inf\n",
      "\n",
      "For sentence.. he won the war \n",
      "probability: 8.28700074926e-10  \tlog-likelihood: -9.08160262189 \tPerplexity: 186.380578535\n"
     ]
    }
   ],
   "source": [
    "print('For Bigram')\n",
    "for sent in test_clean:\n",
    "    try:\n",
    "        prob = np.prod([bigram_brown[i][j] for i, j in ngrams(sent, 2, pad_left=True, pad_right=True)])\n",
    "        print('\\nFor sentence..', ' '.join(sent) ,'\\nprobability:', prob,' \\tlog-likelihood:', np.log10(prob),'\\tPerplexity:',(1/prob)**(1/len(sent)))\n",
    "    except:\n",
    "        print('\\nFor sentence..', ' '.join(sent) ,'\\nprobability:', prob,' \\tlog-likelihood: Inf\\tPerplexity:Inf')"
   ]
  },
  {
   "cell_type": "code",
   "execution_count": 43,
   "metadata": {},
   "outputs": [
    {
     "name": "stdout",
     "output_type": "stream",
     "text": [
      "For Trigram\n",
      "\n",
      "For sentence.. he lived a good life \n",
      "probability: 8.28700074926e-10  \tlog-likelihood: Inf\tPerplexity:Inf\n",
      "\n",
      "For sentence.. the man was happy \n",
      "probability: 8.28700074926e-10  \tlog-likelihood: Inf\tPerplexity:Inf\n",
      "\n",
      "For sentence.. the person was good \n",
      "probability: 8.28700074926e-10  \tlog-likelihood: Inf\tPerplexity:Inf\n",
      "\n",
      "For sentence.. the girl was sad \n",
      "probability: 8.28700074926e-10  \tlog-likelihood: Inf\tPerplexity:Inf\n",
      "\n",
      "For sentence.. he won the war \n",
      "probability: 8.28700074926e-10  \tlog-likelihood: Inf\tPerplexity:Inf\n"
     ]
    }
   ],
   "source": [
    "print('For Trigram')\n",
    "for sent in test_clean:\n",
    "    try:\n",
    "        prob = np.prod([trigram_brown[(i, j)][k] for i, j, k in ngrams(sent, 2, pad_left=True, pad_right=True)])\n",
    "        print('\\nFor sentence..', ' '.join(sent) ,'\\nprobability:', prob,' \\tlog-likelihood:', np.log10(prob),'\\tPerplexity:',(1/prob)**(1/len(sent)))\n",
    "    except:\n",
    "        print('\\nFor sentence..', ' '.join(sent) ,'\\nprobability:', prob,' \\tlog-likelihood: Inf\\tPerplexity:Inf')"
   ]
  }
 ],
 "metadata": {
  "kernelspec": {
   "display_name": "Python 3",
   "language": "python",
   "name": "python3"
  },
  "language_info": {
   "codemirror_mode": {
    "name": "ipython",
    "version": 3
   },
   "file_extension": ".py",
   "mimetype": "text/x-python",
   "name": "python",
   "nbconvert_exporter": "python",
   "pygments_lexer": "ipython3",
   "version": "3.6.5"
  }
 },
 "nbformat": 4,
 "nbformat_minor": 2
}
