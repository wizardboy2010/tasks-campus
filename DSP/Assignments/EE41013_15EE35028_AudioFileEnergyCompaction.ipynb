{
 "cells": [
  {
   "cell_type": "code",
   "execution_count": 12,
   "metadata": {},
   "outputs": [],
   "source": [
    "import numpy as np\n",
    "import matplotlib.pyplot as plt\n",
    "\n",
    "from scipy.io import wavfile\n",
    "\n",
    "from scipy.fftpack import fft, ifft, dct, idct\n",
    "\n",
    "import pywt\n",
    "\n",
    "%matplotlib inline"
   ]
  },
  {
   "cell_type": "markdown",
   "metadata": {},
   "source": [
    "# Haar"
   ]
  },
  {
   "cell_type": "code",
   "execution_count": 13,
   "metadata": {},
   "outputs": [],
   "source": [
    "def haar(x):\n",
    "    out = []\n",
    "    (ca, cd) = pywt.dwt(x,'haar')\n",
    "    out = list(cd)+out\n",
    "    while len(ca)!=1:\n",
    "        (ca, cd) = pywt.dwt(ca,'haar')\n",
    "        out = list(cd)+out\n",
    "    out = list(ca)+out\n",
    "    return out\n",
    "\n",
    "def ihaar(x):\n",
    "    N = len(x)\n",
    "    i = 0\n",
    "    x[:2] = pywt.idwt([x[0]], [x[1]],'haar')\n",
    "    i = 2\n",
    "    while 2*i<N+1:\n",
    "        try:\n",
    "            x[:2*i] = pywt.idwt(x[:i],x[i:2*i],'haar')\n",
    "        except:\n",
    "            print(i)\n",
    "            return\n",
    "        i = 2*i\n",
    "    return x"
   ]
  },
  {
   "cell_type": "markdown",
   "metadata": {},
   "source": [
    "# Modified"
   ]
  },
  {
   "cell_type": "code",
   "execution_count": 14,
   "metadata": {},
   "outputs": [],
   "source": [
    "def X_DFT(x, L):\n",
    "    N = len(x)\n",
    "    X = fft(x).reshape(-1,1)\n",
    "    return [0 if k in range(int(np.ceil((N+1-L)/2)), (N-1+L)//2+1) else X[k][0] for k in range(N)]\n",
    "\n",
    "def X_DCT(x, L):\n",
    "    N = len(x)\n",
    "    X = dct(x)\n",
    "    return [0 if k>=N-L else X[k] for k in range(N)]\n",
    "\n",
    "def X_Haar(x, L):\n",
    "    N = len(x)\n",
    "    X = haar(x)\n",
    "    return [0 if k>=N-L else X[k] for k in range(N)]"
   ]
  },
  {
   "cell_type": "markdown",
   "metadata": {},
   "source": [
    "# Error"
   ]
  },
  {
   "cell_type": "code",
   "execution_count": 15,
   "metadata": {},
   "outputs": [],
   "source": [
    "def error(x,xm):\n",
    "    x=np.array(x)\n",
    "    xm=np.array(xm)\n",
    "    mse=np.mean((abs(x-xm))**2)\n",
    "    return mse"
   ]
  },
  {
   "cell_type": "code",
   "execution_count": 16,
   "metadata": {},
   "outputs": [],
   "source": [
    "def e_DFT(x,l):\n",
    "    X = X_DFT(x, l)\n",
    "    x_e = np.asarray(ifft(X))\n",
    "    mse = np.mean(abs(x.reshape(-1,1) - x_e.reshape(-1,1))**2)\n",
    "    return mse\n",
    "\n",
    "def e_DCT(x,l):\n",
    "    N = len(x)\n",
    "    X = np.asarray(X_DCT(x, l))\n",
    "    x_e = idct(X)/(2*N)\n",
    "    mse = np.mean((x.reshape(-1,1) - x_e.reshape(-1,1))**2)\n",
    "    return mse\n",
    "\n",
    "def e_Haar(x,l):\n",
    "    X = X_Haar(x, l)\n",
    "    x_e = np.asarray(ihaar(X))\n",
    "    mse = np.mean((x.reshape(-1,1) - x_e.reshape(-1,1))**2)\n",
    "    return mse"
   ]
  },
  {
   "cell_type": "markdown",
   "metadata": {},
   "source": [
    "# Error plot"
   ]
  },
  {
   "cell_type": "code",
   "execution_count": 23,
   "metadata": {},
   "outputs": [],
   "source": [
    "def error_transfrom(l_range, x):\n",
    "    #x = np.random.randint(x_max,size = N)\n",
    "    er_dft = [e_DFT(x, l)for l in l_range]\n",
    "    er_dct = [e_DCT(x, l) for l in l_range]\n",
    "    er_haar = [e_Haar(x, l) for l in l_range]\n",
    "    plt.plot(l_range, er_dft, 'blue')\n",
    "    plt.plot(l_range, er_dct, 'green')\n",
    "    plt.plot(l_range, er_haar, 'brown')\n",
    "    plt.legend(['DFT', 'DCT', 'Haar'])"
   ]
  },
  {
   "cell_type": "code",
   "execution_count": 19,
   "metadata": {
    "scrolled": true
   },
   "outputs": [],
   "source": [
    "fs, sound = wavfile.read('sound_1s.wav')"
   ]
  },
  {
   "cell_type": "code",
   "execution_count": 20,
   "metadata": {
    "scrolled": true
   },
   "outputs": [],
   "source": [
    "n = np.log2(len(sound))\n",
    "if int(n) != n:\n",
    "    N = int(n)\n",
    "    new_sound = sound[:2**N]\n",
    "sound = new_sound"
   ]
  },
  {
   "cell_type": "code",
   "execution_count": 26,
   "metadata": {},
   "outputs": [
    {
     "data": {
      "image/png": "[encoded data removed]",
      "text/plain": [
       "<Figure size 432x288 with 1 Axes>"
      ]
     },
     "metadata": {
      "needs_background": "light"
     },
     "output_type": "display_data"
    }
   ],
   "source": [
    "error_transfrom(range(15000,len(sound), 1000),sound)"
   ]
  },
  {
   "cell_type": "code",
   "execution_count": 25,
   "metadata": {},
   "outputs": [
    {
     "data": {
      "text/plain": [
       "44.63680554807835"
      ]
     },
     "execution_count": 25,
     "metadata": {},
     "output_type": "execute_result"
    }
   ],
   "source": [
    "e_DFT(sound, 10000)"
   ]
  }
 ],
 "metadata": {
  "kernelspec": {
   "display_name": "Python 3",
   "language": "python",
   "name": "python3"
  },
  "language_info": {
   "codemirror_mode": {
    "name": "ipython",
    "version": 3
   },
   "file_extension": ".py",
   "mimetype": "text/x-python",
   "name": "python",
   "nbconvert_exporter": "python",
   "pygments_lexer": "ipython3",
   "version": "3.5.3"
  }
 },
 "nbformat": 4,
 "nbformat_minor": 2
}
