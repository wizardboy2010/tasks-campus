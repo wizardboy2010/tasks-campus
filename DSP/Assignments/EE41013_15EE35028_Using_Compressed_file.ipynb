{
 "cells": [
  {
   "cell_type": "code",
   "execution_count": 1,
   "metadata": {},
   "outputs": [],
   "source": [
    "import numpy as np\n",
    "import matplotlib.pyplot as plt\n",
    "from tqdm import tqdm\n",
    "\n",
    "from scipy.io import wavfile\n",
    "\n",
    "from scipy.fftpack import dct, idct\n",
    "\n",
    "%matplotlib inline"
   ]
  },
  {
   "cell_type": "code",
   "execution_count": 2,
   "metadata": {},
   "outputs": [
    {
     "name": "stderr",
     "output_type": "stream",
     "text": [
      "c:\\users\\user\\appdata\\local\\programs\\python\\python35\\lib\\site-packages\\scipy\\io\\wavfile.py:273: WavFileWarning: Chunk (non-data) not understood, skipping it.\n",
      "  WavFileWarning)\n"
     ]
    }
   ],
   "source": [
    "fs, sound = wavfile.read('sound_1s.wav')"
   ]
  },
  {
   "cell_type": "code",
   "execution_count": 3,
   "metadata": {},
   "outputs": [],
   "source": [
    "def X_compact(X, L):\n",
    "    N = len(X)\n",
    "    return [X[k] for k in range(N) if k<N-L]"
   ]
  },
  {
   "cell_type": "code",
   "execution_count": 4,
   "metadata": {},
   "outputs": [],
   "source": [
    "def dct_tofile(x, M, fname = 'compfile.txt'):\n",
    "    N = len(x)\n",
    "    X = dct(x)\n",
    "    with open(fname, 'w') as file:\n",
    "        file.write(str(N)+'\\n')\n",
    "        file.write(str(M)+'\\n')\n",
    "        file.write('\\n'.join([str(i) for i in X_compact(X, M)]))"
   ]
  },
  {
   "cell_type": "code",
   "execution_count": 5,
   "metadata": {},
   "outputs": [],
   "source": [
    "def fromfile(fname = 'compfile.txt'):\n",
    "    X_comp = []\n",
    "    with open(fname, 'r') as file:\n",
    "        for num, line in enumerate(file):\n",
    "            if num == 0:\n",
    "                N = int(line)\n",
    "            elif num == 1:\n",
    "                M = int(line)\n",
    "            else:\n",
    "                X_comp.append(float(line))\n",
    "    return idct(X_comp+[0]*M)/(2*N)"
   ]
  },
  {
   "cell_type": "code",
   "execution_count": 6,
   "metadata": {},
   "outputs": [],
   "source": [
    "dct_tofile(sound, 1000, 'compfile.txt')"
   ]
  },
  {
   "cell_type": "code",
   "execution_count": 7,
   "metadata": {},
   "outputs": [],
   "source": [
    "x_comp = fromfile()"
   ]
  },
  {
   "cell_type": "code",
   "execution_count": 8,
   "metadata": {},
   "outputs": [],
   "source": [
    "wavfile.write('compacted_final_sound.wav', fs, x_comp)"
   ]
  }
 ],
 "metadata": {
  "kernelspec": {
   "display_name": "Python 3",
   "language": "python",
   "name": "python3"
  },
  "language_info": {
   "codemirror_mode": {
    "name": "ipython",
    "version": 3
   },
   "file_extension": ".py",
   "mimetype": "text/x-python",
   "name": "python",
   "nbconvert_exporter": "python",
   "pygments_lexer": "ipython3",
   "version": "3.5.3"
  }
 },
 "nbformat": 4,
 "nbformat_minor": 2
}
