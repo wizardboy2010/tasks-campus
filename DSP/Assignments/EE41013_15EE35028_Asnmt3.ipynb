{
 "cells": [
  {
   "cell_type": "code",
   "execution_count": 1,
   "metadata": {},
   "outputs": [],
   "source": [
    "import numpy as np\n",
    "import matplotlib.pyplot as plt\n",
    "from tqdm import tqdm\n",
    "\n",
    "from scipy.io import wavfile\n",
    "\n",
    "from scipy.fftpack import dct, idct\n",
    "\n",
    "%matplotlib inline"
   ]
  },
  {
   "cell_type": "code",
   "execution_count": 2,
   "metadata": {},
   "outputs": [
    {
     "name": "stderr",
     "output_type": "stream",
     "text": [
      "c:\\users\\user\\appdata\\local\\programs\\python\\python35\\lib\\site-packages\\scipy\\io\\wavfile.py:273: WavFileWarning: Chunk (non-data) not understood, skipping it.\n",
      "  WavFileWarning)\n"
     ]
    }
   ],
   "source": [
    "fs, sound = wavfile.read('sound_1s.wav')"
   ]
  },
  {
   "cell_type": "code",
   "execution_count": 3,
   "metadata": {},
   "outputs": [],
   "source": [
    "def X_DCT(x, L):\n",
    "    N = len(x)\n",
    "    X = dct(x)\n",
    "    return [0 if k>=N-L else X[k] for k in range(N)]"
   ]
  },
  {
   "cell_type": "code",
   "execution_count": 12,
   "metadata": {},
   "outputs": [],
   "source": [
    "def dct_tofile(x, M, fname = 'compfile'):\n",
    "    N = len(x)\n",
    "    dct_comp = X_DCT(x, M)\n",
    "    with open(fname, 'w') as file:\n",
    "        file.write(str(N)+'\\n')\n",
    "        file.write(str(M)+'\\n')\n",
    "        file.write('\\n'.join([str(i) for i in dct_comp]))"
   ]
  },
  {
   "cell_type": "code",
   "execution_count": 27,
   "metadata": {},
   "outputs": [],
   "source": [
    "dct_tofile(sound, 0, 'compfile')"
   ]
  },
  {
   "cell_type": "code",
   "execution_count": 23,
   "metadata": {},
   "outputs": [],
   "source": [
    "def fromfile(fname = 'compfile'):\n",
    "    X_comp = []\n",
    "    with open(fname, 'r') as file:\n",
    "        for num, line in enumerate(file):\n",
    "            if num == 0:\n",
    "                N = int(line)\n",
    "            elif num == 1:\n",
    "                M = int(line)\n",
    "            else:\n",
    "                X_comp.append(float(line))\n",
    "    return idct(X_comp)/(2*N)"
   ]
  },
  {
   "cell_type": "code",
   "execution_count": 28,
   "metadata": {},
   "outputs": [],
   "source": [
    "x = fromfile()"
   ]
  },
  {
   "cell_type": "code",
   "execution_count": 29,
   "metadata": {},
   "outputs": [
    {
     "data": {
      "text/plain": [
       "(array([  -3,   46,  156,  363,  635,  937, 1314, 1708, 2111, 2482],\n",
       "       dtype=int16),\n",
       " array([  -3.,   46.,  156.,  363.,  635.,  937., 1314., 1708., 2111.,\n",
       "        2482.]))"
      ]
     },
     "execution_count": 29,
     "metadata": {},
     "output_type": "execute_result"
    }
   ],
   "source": [
    "sound[:10], x[:10]"
   ]
  }
 ],
 "metadata": {
  "kernelspec": {
   "display_name": "Python 3",
   "language": "python",
   "name": "python3"
  },
  "language_info": {
   "codemirror_mode": {
    "name": "ipython",
    "version": 3
   },
   "file_extension": ".py",
   "mimetype": "text/x-python",
   "name": "python",
   "nbconvert_exporter": "python",
   "pygments_lexer": "ipython3",
   "version": "3.5.3"
  }
 },
 "nbformat": 4,
 "nbformat_minor": 2
}
