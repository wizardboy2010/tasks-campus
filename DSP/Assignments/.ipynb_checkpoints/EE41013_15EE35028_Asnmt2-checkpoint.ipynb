{
 "cells": [
  {
   "cell_type": "code",
   "execution_count": 1,
   "metadata": {
    "collapsed": true
   },
   "outputs": [],
   "source": [
    "import numpy as np\n",
    "import matplotlib.pyplot as plt\n",
    "from tqdm import tqdm\n",
    "\n",
    "%matplotlib inline"
   ]
  },
  {
   "cell_type": "markdown",
   "metadata": {},
   "source": [
    "# DFT"
   ]
  },
  {
   "cell_type": "code",
   "execution_count": 2,
   "metadata": {
    "collapsed": true
   },
   "outputs": [],
   "source": [
    "def DFT(x):\n",
    "    N = len(x)\n",
    "    Wn = np.exp(-2J*np.pi/N)\n",
    "    l_w = Wn**np.arange(N)\n",
    "    D = (l_w.reshape(-1,1))**np.arange(N)\n",
    "    return D.dot(x)\n",
    "\n",
    "def IDFT(x):\n",
    "    N = len(x)\n",
    "    Wn = np.exp(-2J*np.pi/N)\n",
    "    l_w = Wn**np.arange(0, -N, -1)\n",
    "    D = (l_w.reshape(-1,1))**np.arange(N)/N\n",
    "    return D.dot(x)"
   ]
  },
  {
   "cell_type": "markdown",
   "metadata": {},
   "source": [
    "# DCT"
   ]
  },
  {
   "cell_type": "code",
   "execution_count": 3,
   "metadata": {
    "collapsed": true
   },
   "outputs": [],
   "source": [
    "def DCT(x):\n",
    "    N = len(x)\n",
    "    M = np.arange(1,2*N,2)\n",
    "    M = (M.reshape(-1,1))*np.arange(N)\n",
    "    M = np.cos((np.pi/(2*N))*M)\n",
    "    return (x.reshape(1,-1).dot(2*M)).T\n",
    "\n",
    "def IDCT(x):\n",
    "    N = len(x)\n",
    "    M = np.arange(1,2*N,2)\n",
    "    M = (M.reshape(-1,1))*np.arange(N)\n",
    "    M = np.cos((np.pi/(2*N))*M)\n",
    "    alpha = np.ones([N,N])\n",
    "    alpha[:,0] = [0.5]*N\n",
    "    M = (M*alpha)/N\n",
    "    return M.dot(x.reshape(-1,1))\n",
    "#np.matmul(x.reshape(1,-1), M.T).T"
   ]
  },
  {
   "cell_type": "markdown",
   "metadata": {},
   "source": [
    "# Haar"
   ]
  },
  {
   "cell_type": "code",
   "execution_count": 4,
   "metadata": {
    "collapsed": true
   },
   "outputs": [],
   "source": [
    "def wierd_mul(a,b):\n",
    "    t = []\n",
    "    for i in a:\n",
    "        l = [j*b for j in i]\n",
    "        t.append(np.hstack(l))\n",
    "    return np.vstack(t)\n",
    "\n",
    "def H_haar(n):\n",
    "    h = [np.identity(1)]\n",
    "    for i in range(n):\n",
    "        #temp1 = np.hstack([h[-1],h[-1]])\n",
    "        temp1 = wierd_mul(h[-1],np.array([1,1]))\n",
    "        #print(temp1.shape)\n",
    "        #temp2 = (2**(i/2))*np.asarray([[0]*2 if k!=j else [1,-1] for j in range(2**i) for k in range(2**i)]).reshape(2**i,2**(i+1))\n",
    "        temp2 = (2**(i/2))*wierd_mul(np.identity(2**i), np.array([1,-1]))\n",
    "        #print(temp2.shape)\n",
    "        h.append(np.vstack([temp1,temp2]))\n",
    "    return h[-1]"
   ]
  },
  {
   "cell_type": "code",
   "execution_count": 5,
   "metadata": {
    "collapsed": true
   },
   "outputs": [],
   "source": [
    "def Haar(x):\n",
    "    N = len(x)\n",
    "    n = int(np.log2(N))\n",
    "    H = H_haar(n)\n",
    "    return H.dot(x.reshape(-1,1))\n",
    "    #return np.matmul(H,x.reshape(-1,1))\n",
    "\n",
    "def IHaar(x):\n",
    "    N = len(x)\n",
    "    n = int(np.log2(N))\n",
    "    H = H_haar(n)\n",
    "    return H.T.dot(x.reshape(-1,1))/N\n",
    "    #return np.matmul(H.T,x.reshape(-1,1))/N"
   ]
  },
  {
   "cell_type": "markdown",
   "metadata": {},
   "source": [
    "# Modified"
   ]
  },
  {
   "cell_type": "code",
   "execution_count": 6,
   "metadata": {
    "collapsed": true
   },
   "outputs": [],
   "source": [
    "def X_DFT(x, L):\n",
    "    N = len(x)\n",
    "    X = DFT(x).reshape(-1,1)\n",
    "    return np.asarray([0 if k in range(int(np.ceil((N+1-L)/2)), (N-1+L)//2+1) else X[k] for k in range(N)]).reshape(-1,1)\n",
    "\n",
    "def X_DCT(x, L):\n",
    "    N = len(x)\n",
    "    X = DCT(x).reshape(-1,1)\n",
    "    return np.asarray([0 if k>=N-L else X[k] for k in range(N)]).reshape(-1,1)\n",
    "\n",
    "def X_Haar(x, L):\n",
    "    N = len(x)\n",
    "    X = Haar(x).reshape(-1,1)\n",
    "    return np.asarray([0 if k>=N-L else X[k] for k in range(N)]).reshape(-1,1)"
   ]
  },
  {
   "cell_type": "markdown",
   "metadata": {},
   "source": [
    "# Error"
   ]
  },
  {
   "cell_type": "code",
   "execution_count": 7,
   "metadata": {
    "collapsed": true
   },
   "outputs": [],
   "source": [
    "def e_DFT(x,l):\n",
    "    X = X_DFT(x, l)\n",
    "    x_e = IDFT(X)\n",
    "    #print(x.shape)\n",
    "    mse = np.mean(abs(x.reshape(-1,1) - x_e.reshape(-1,1))**2)\n",
    "    return mse\n",
    "\n",
    "def e_DCT(x,l):\n",
    "    X = X_DCT(x, l)\n",
    "    x_e = IDCT(X)\n",
    "    mse = np.mean((x.reshape(-1,1) - x_e.reshape(-1,1))**2)\n",
    "    return mse\n",
    "\n",
    "def e_Haar(x,l):\n",
    "    X = X_Haar(x, l)\n",
    "    x_e = IHaar(X)\n",
    "    #print(x.shape)\n",
    "    mse = np.mean((x.reshape(-1,1) - x_e.reshape(-1,1))**2)\n",
    "    return mse"
   ]
  },
  {
   "cell_type": "markdown",
   "metadata": {},
   "source": [
    "# Error plot"
   ]
  },
  {
   "cell_type": "code",
   "execution_count": 8,
   "metadata": {
    "collapsed": true
   },
   "outputs": [],
   "source": [
    "def error_transfrom(l_range, N = 64, x_max = 10, iterat = 20, scale = 10):\n",
    "    #x = np.random.randint(x_max,size = N)\n",
    "    er_dft = [np.mean([e_DFT(np.random.randint(x_max,size = N), l)*scale for j in range(iterat)]) for l in tqdm(l_range)]\n",
    "    er_dct = [np.mean([e_DCT(np.random.randint(x_max,size = N), l)*scale for j in range(iterat)]) for l in tqdm(l_range)]\n",
    "    er_haar = [np.mean([e_Haar(np.random.randint(x_max,size = N), l)*scale for j in range(iterat)]) for l in tqdm(l_range)]\n",
    "#     er_dft = [scale**np.mean([e_DFT(np.random.randint(x_max,size = N), l) for j in range(iterat)]) for l in tqdm(l_range)]\n",
    "#     er_dct = [scale**np.mean([e_DCT(np.random.randint(x_max,size = N), l) for j in range(iterat)]) for l in tqdm(l_range)]\n",
    "#     er_haar = [scale**np.mean([e_Haar(np.random.randint(x_max,size = N), l) for j in range(iterat)]) for l in tqdm(l_range)]\n",
    "    plt.plot(l_range, er_dft, 'blue')\n",
    "    plt.plot(l_range, er_dct, 'green')\n",
    "    plt.plot(l_range, er_haar, 'brown')\n",
    "    plt.legend(['DFT', 'DCT', 'Haar'])"
   ]
  },
  {
   "cell_type": "code",
   "execution_count": 9,
   "metadata": {
    "scrolled": true
   },
   "outputs": [
    {
     "name": "stderr",
     "output_type": "stream",
     "text": [
      "100%|██████████| 6/6 [00:04<00:00,  1.36it/s]\n",
      "100%|██████████| 6/6 [00:04<00:00,  1.44it/s]\n",
      "100%|██████████| 6/6 [00:30<00:00,  5.07s/it]\n"
     ]
    },
    {
     "data": {
      "image/png": "[encoded data removed]",
      "text/plain": [
       "<matplotlib.figure.Figure at 0x7fc0a80f79e8>"
      ]
     },
     "metadata": {},
     "output_type": "display_data"
    }
   ],
   "source": [
    "error_transfrom(range(0,30,5), x_max = 5, iterat = 100, scale = 1)"
   ]
  }
 ],
 "metadata": {
  "kernelspec": {
   "display_name": "Python 3",
   "language": "python",
   "name": "python3"
  },
  "language_info": {
   "codemirror_mode": {
    "name": "ipython",
    "version": 3
   },
   "file_extension": ".py",
   "mimetype": "text/x-python",
   "name": "python",
   "nbconvert_exporter": "python",
   "pygments_lexer": "ipython3",
   "version": "3.6.5"
  }
 },
 "nbformat": 4,
 "nbformat_minor": 2
}
