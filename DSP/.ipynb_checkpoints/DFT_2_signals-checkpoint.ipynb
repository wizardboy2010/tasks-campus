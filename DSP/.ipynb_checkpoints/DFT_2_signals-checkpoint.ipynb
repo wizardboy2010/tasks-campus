{
 "cells": [
  {
   "cell_type": "code",
   "execution_count": 3,
   "metadata": {
    "collapsed": true
   },
   "outputs": [],
   "source": [
    "import numpy as np\n",
    "import matplotlib.pyplot as plt\n",
    "from time import time\n",
    "\n",
    "% matplotlib inline"
   ]
  },
  {
   "cell_type": "code",
   "execution_count": 1,
   "metadata": {
    "collapsed": true
   },
   "outputs": [],
   "source": [
    "def DFT_mat(x):\n",
    "    N = len(x)\n",
    "    Wn = np.exp(-2J*np.pi/N)\n",
    "    l_w = Wn**np.arange(N)\n",
    "    D = (l_w.reshape(-1,1))**np.arange(N)\n",
    "    return D.dot(x)"
   ]
  },
  {
   "cell_type": "code",
   "execution_count": 2,
   "metadata": {
    "collapsed": true
   },
   "outputs": [],
   "source": [
    "def IDFT_mat(x):\n",
    "    N = len(x)\n",
    "    Wn = np.exp(-2J*np.pi/N)\n",
    "    l_w = Wn**np.arange(0, -N, -1)\n",
    "    D = (l_w.reshape(-1,1))**np.arange(N)/N\n",
    "    return D.dot(x)"
   ]
  },
  {
   "cell_type": "code",
   "execution_count": 4,
   "metadata": {
    "collapsed": true
   },
   "outputs": [],
   "source": [
    "def normal_dft(x,y):\n",
    "    a = time()\n",
    "    X = DFT_mat(x)\n",
    "    Y = DFT_mat(x)\n",
    "    b = time()\n",
    "    return b-a"
   ]
  },
  {
   "cell_type": "code",
   "execution_count": 10,
   "metadata": {
    "collapsed": true
   },
   "outputs": [],
   "source": [
    "def fast_dft(x, y):\n",
    "    N = len(x)\n",
    "    a = time()\n",
    "    z = x+1J*y\n",
    "    Z = DFT_mat(z)\n",
    "    X = [0.5*(Z[i]+np.conj(Z[(-i)%N])) for i in range(N)]\n",
    "    Y = [-0.5J*(Z[i]-np.conj(Z[(-i)%N])) for i in range(N)]\n",
    "    b = time()\n",
    "    return b-a"
   ]
  },
  {
   "cell_type": "code",
   "execution_count": 6,
   "metadata": {},
   "outputs": [
    {
     "data": {
      "text/plain": [
       "[<matplotlib.lines.Line2D at 0x7f34b850d588>]"
      ]
     },
     "execution_count": 6,
     "metadata": {},
     "output_type": "execute_result"
    },
    {
     "data": {
      "image/png": "[encoded data removed]",
      "text/plain": [
       "<matplotlib.figure.Figure at 0x7f34b8ba9be0>"
      ]
     },
     "metadata": {},
     "output_type": "display_data"
    }
   ],
   "source": [
    "f = 10\n",
    "N = 10\n",
    "t = np.linspace(0, 1/f, N+1)[:-1]\n",
    "x = np.sin(2*np.pi*t*f)\n",
    "\n",
    "plt.plot(x)"
   ]
  },
  {
   "cell_type": "code",
   "execution_count": 11,
   "metadata": {
    "collapsed": true
   },
   "outputs": [],
   "source": [
    "def make_x(N, f = 10):\n",
    "    t = np.linspace(0, 1/f, N+1)[:-1]\n",
    "    x = np.sin(2*np.pi*t*f)\n",
    "    return x"
   ]
  },
  {
   "cell_type": "code",
   "execution_count": 12,
   "metadata": {
    "collapsed": true
   },
   "outputs": [],
   "source": [
    "def time_normal():\n",
    "    t = []\n",
    "    for N in range(5, 40):\n",
    "        x = make_x(N)\n",
    "        t.append(normal_dft(x,x))\n",
    "    return t"
   ]
  },
  {
   "cell_type": "code",
   "execution_count": 34,
   "metadata": {
    "collapsed": true
   },
   "outputs": [],
   "source": [
    "def time_fast():\n",
    "    t = []\n",
    "    for N in range(5, 40):\n",
    "        x = make_x(N)\n",
    "        t.append(fast_dft(x,x))\n",
    "    return t"
   ]
  },
  {
   "cell_type": "code",
   "execution_count": 35,
   "metadata": {},
   "outputs": [
    {
     "data": {
      "text/plain": [
       "[<matplotlib.lines.Line2D at 0x7f34ace46dd8>]"
      ]
     },
     "execution_count": 35,
     "metadata": {},
     "output_type": "execute_result"
    },
    {
     "data": {
      "image/png": "[encoded data removed]",
      "text/plain": [
       "<matplotlib.figure.Figure at 0x7f34ace46550>"
      ]
     },
     "metadata": {},
     "output_type": "display_data"
    }
   ],
   "source": [
    "plt.plot(time_normal())\n",
    "plt.plot(time_fast())"
   ]
  },
  {
   "cell_type": "code",
   "execution_count": null,
   "metadata": {
    "collapsed": true
   },
   "outputs": [],
   "source": []
  },
  {
   "cell_type": "code",
   "execution_count": null,
   "metadata": {
    "collapsed": true
   },
   "outputs": [],
   "source": []
  }
 ],
 "metadata": {
  "kernelspec": {
   "display_name": "Python 3",
   "language": "python",
   "name": "python3"
  },
  "language_info": {
   "codemirror_mode": {
    "name": "ipython",
    "version": 3
   },
   "file_extension": ".py",
   "mimetype": "text/x-python",
   "name": "python",
   "nbconvert_exporter": "python",
   "pygments_lexer": "ipython3",
   "version": "3.6.5"
  }
 },
 "nbformat": 4,
 "nbformat_minor": 2
}
